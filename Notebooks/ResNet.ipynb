{
 "cells": [
  {
   "cell_type": "markdown",
   "metadata": {},
   "source": [
    "## ResNet Models"
   ]
  },
  {
   "cell_type": "markdown",
   "metadata": {},
   "source": [
    "#### Imports"
   ]
  },
  {
   "cell_type": "code",
   "execution_count": 2,
   "metadata": {},
   "outputs": [],
   "source": [
    "# Run if using tensorflow2.0+\n",
    "import pandas as pd\n",
    "import numpy as np\n",
    "import sklearn\n",
    "from sklearn.preprocessing import OneHotEncoder\n",
    "from sklearn.model_selection import train_test_split\n",
    "from sklearn.metrics import accuracy_score\n",
    "from tensorflow.keras.models import Sequential, Model\n",
    "from tensorflow.keras.layers import Dense, Dropout, Flatten, Add, Activation, InputLayer\n",
    "from tensorflow.keras import Input\n",
    "from tensorflow.keras.optimizers import SGD, Adam"
   ]
  },
  {
   "cell_type": "markdown",
   "metadata": {},
   "source": [
    "#### Read Data"
   ]
  },
  {
   "cell_type": "code",
   "execution_count": 3,
   "metadata": {},
   "outputs": [
    {
     "data": {
      "text/plain": [
       "0     0.248030\n",
       "1     0.197173\n",
       "3     0.133722\n",
       "2     0.110785\n",
       "4     0.080682\n",
       "5     0.055575\n",
       "7     0.053003\n",
       "8     0.049037\n",
       "6     0.037622\n",
       "9     0.027224\n",
       "10    0.007147\n",
       "Name: open_channels, dtype: float64"
      ]
     },
     "execution_count": 3,
     "metadata": {},
     "output_type": "execute_result"
    }
   ],
   "source": [
    "df_train = pd.read_csv('../Data/train.csv')\n",
    "df_train['open_channels'].value_counts(normalize=True)"
   ]
  },
  {
   "cell_type": "markdown",
   "metadata": {},
   "source": [
    "Method that cuts up the data into batches"
   ]
  },
  {
   "cell_type": "code",
   "execution_count": 4,
   "metadata": {},
   "outputs": [],
   "source": [
    "def get_data(batch_num='all', zeros = True):\n",
    "    #create training data per batch\n",
    "    batch_size = 500000\n",
    "    if batch_num == 'all':\n",
    "        beg = 0\n",
    "        end = 499999999\n",
    "        print('Training on all data')\n",
    "    else:\n",
    "        batch = batch_num\n",
    "        beg = (batch-1)*batch_size \n",
    "        end = batch*batch_size - 1\n",
    "    df_batch = df_train[beg:end]\n",
    "    \n",
    "    # filter out the zero open_channels cases\n",
    "    if not zeros:\n",
    "        df_batch = df_batch.drop(df_batch[df_batch['open_channels']==0].index) #optional, added because model was always predicting 0\n",
    "        \n",
    "    # randomize \n",
    "    signal = np.array(df_batch.signal)\n",
    "    open_channels = np.array(df_batch.open_channels)\n",
    "    x_train, x_test, y_train, y_test = train_test_split(signal,open_channels,test_size=0.25)\n",
    "    x_train = np.reshape(x_train, (-1,1))\n",
    "    y_train = np.reshape(y_train, (-1,1))\n",
    "    x_test = np.reshape(x_test, (-1,1))\n",
    "    y_test = np.reshape(y_test, (-1,1))\n",
    "    \n",
    "    # categorize outputs\n",
    "    enc = OneHotEncoder()\n",
    "    enc.fit_transform(y_train)\n",
    "    enc.fit_transform(y_test)\n",
    "    \n",
    "    return x_train, x_test, y_train, y_test"
   ]
  },
  {
   "cell_type": "markdown",
   "metadata": {},
   "source": [
    "#### Network"
   ]
  },
  {
   "cell_type": "markdown",
   "metadata": {},
   "source": [
    "Network definition has options for dense layer size, the amount of dropout in each residual block, and how many residual blocks to use"
   ]
  },
  {
   "cell_type": "code",
   "execution_count": 5,
   "metadata": {},
   "outputs": [],
   "source": [
    "def resnet(layer_size=64, dropout=0, depth=1):\n",
    "    #model params\n",
    "    layer = layer_size\n",
    "    dropout = dropout\n",
    "    \n",
    "    #create model\n",
    "    inputs = Input(shape=(1,))\n",
    "\n",
    "    if depth > 0:\n",
    "        k = Dense(layer, activation='relu')(inputs)\n",
    "        k = Dense(layer, activation='relu')(k)\n",
    "        k = Dropout(dropout)(k)\n",
    "        block1 = Add()([k, inputs])\n",
    "        kl = Dense(20, activation='relu')(block1)\n",
    "        \n",
    "        if depth > 1:\n",
    "            k = Dense(layer, activation='relu')(block1)\n",
    "            k = Dense(layer, activation='relu')(k)\n",
    "            k = Dropout(dropout)(k)\n",
    "            block2 = Add()([k, block1])\n",
    "            kl = Dense(20, activation='relu')(block2)\n",
    "\n",
    "            if depth > 2:\n",
    "                k = Dense(layer, activation='relu')(block2)\n",
    "                k = Dense(layer, activation='relu')(k)\n",
    "                k = Dropout(dropout)(k)\n",
    "                block3 = Add()([k, block2])\n",
    "                kl = Dense(20, activation='relu')(block3)\n",
    "\n",
    "                if depth > 3:\n",
    "                    k = Dense(layer, activation='relu')(block3)\n",
    "                    k = Dense(layer, activation='relu')(k)\n",
    "                    k = Dropout(dropout)(k)\n",
    "                    block4 = Add()([k, block3])\n",
    "                    kl = Dense(20, activation='relu')(block4)\n",
    "                    \n",
    "                    if depth > 4:\n",
    "                        k = Dense(layer, activation='relu')(block4)\n",
    "                        k = Dense(layer, activation='relu')(k)\n",
    "                        k = Dropout(dropout)(k)\n",
    "                        block5 = Add()([k, block4])\n",
    "                        kl = Dense(20, activation='relu')(block5)\n",
    "                        \n",
    "                        if depth > 5:\n",
    "                            k = Dense(layer, activation='relu')(block5)\n",
    "                            k = Dense(layer, activation='relu')(k)\n",
    "                            k = Dropout(dropout)(k)\n",
    "                            block6 = Add()([k, block5])\n",
    "                            kl = Dense(20, activation='relu')(block6)\n",
    "                        \n",
    "                            if depth > 6:\n",
    "                                k = Dense(layer, activation='relu')(block6)\n",
    "                                k = Dense(layer, activation='relu')(k)\n",
    "                                k = Dropout(dropout)(k)\n",
    "                                block7 = Add()([k, block6])\n",
    "                                kl = Dense(20, activation='relu')(block7)\n",
    "                                \n",
    "                                if depth > 7:\n",
    "                                    k = Dense(layer, activation='relu')(block7)\n",
    "                                    k = Dense(layer, activation='relu')(k)\n",
    "                                    k = Dropout(dropout)(k)\n",
    "                                    block8 = Add()([k, block7])\n",
    "                                    kl = Dense(20, activation='relu')(block8)\n",
    "\n",
    "    outputs = Dense(units=11, activation='softmax')(kl)\n",
    "    \n",
    "    model = Model(inputs,outputs)\n",
    "    return model"
   ]
  },
  {
   "cell_type": "markdown",
   "metadata": {},
   "source": [
    "#### Training"
   ]
  },
  {
   "cell_type": "code",
   "execution_count": 50,
   "metadata": {},
   "outputs": [
    {
     "name": "stdout",
     "output_type": "stream",
     "text": [
      "Train on 374999 samples, validate on 125000 samples\n",
      "Epoch 1/5\n",
      "374999/374999 [==============================] - 42s 111us/sample - loss: 0.0890 - accuracy: 0.9682 - val_loss: 0.0838 - val_accuracy: 0.9677\n",
      "Epoch 2/5\n",
      "374999/374999 [==============================] - 46s 122us/sample - loss: 0.0716 - accuracy: 0.9691 - val_loss: 0.0479 - val_accuracy: 0.9749\n",
      "Epoch 3/5\n",
      "374999/374999 [==============================] - 45s 121us/sample - loss: 0.0385 - accuracy: 0.9865 - val_loss: 0.0079 - val_accuracy: 0.9977\n",
      "Epoch 4/5\n",
      "374999/374999 [==============================] - 45s 121us/sample - loss: 0.0137 - accuracy: 0.9958 - val_loss: 0.0163 - val_accuracy: 0.9948\n",
      "Epoch 5/5\n",
      "374999/374999 [==============================] - 46s 121us/sample - loss: 0.0094 - accuracy: 0.9969 - val_loss: 0.0300 - val_accuracy: 0.9892\n"
     ]
    },
    {
     "data": {
      "text/plain": [
       "<tensorflow.python.keras.callbacks.History at 0x24e29b01fd0>"
      ]
     },
     "execution_count": 50,
     "metadata": {},
     "output_type": "execute_result"
    }
   ],
   "source": [
    "x_train,x_test,y_train,y_test = get_data(1,zeros=True)\n",
    "model = resnet(layer_size=256, dropout=0.1, depth=8)\n",
    "model.compile(loss='sparse_categorical_crossentropy',optimizer='sgd',metrics=['accuracy'])\n",
    "model.fit(x_train, y_train, epochs=10, validation_data=(x_test,y_test), batch_size=100, verbose=1)"
   ]
  },
  {
   "cell_type": "markdown",
   "metadata": {},
   "source": [
    "Full data model"
   ]
  },
  {
   "cell_type": "code",
   "execution_count": 27,
   "metadata": {},
   "outputs": [
    {
     "name": "stdout",
     "output_type": "stream",
     "text": [
      "Training on all data\n",
      "Train on 3750000 samples, validate on 1250000 samples\n",
      "Epoch 1/10\n",
      "3750000/3750000 [==============================] - 61s 16us/sample - loss: 1.2219 - accuracy: 0.5453 - val_loss: 1.1526 - val_accuracy: 0.5773\n",
      "Epoch 2/10\n",
      "3750000/3750000 [==============================] - 64s 17us/sample - loss: 1.1500 - accuracy: 0.5732 - val_loss: 1.1376 - val_accuracy: 0.5779\n",
      "Epoch 3/10\n",
      "3750000/3750000 [==============================] - 66s 18us/sample - loss: 1.1412 - accuracy: 0.5744 - val_loss: 1.1401 - val_accuracy: 0.5712\n",
      "Epoch 4/10\n",
      "3750000/3750000 [==============================] - 67s 18us/sample - loss: 1.1381 - accuracy: 0.5750 - val_loss: 1.1398 - val_accuracy: 0.5744\n",
      "Epoch 5/10\n",
      "3750000/3750000 [==============================] - 69s 19us/sample - loss: 1.1363 - accuracy: 0.5757 - val_loss: 1.1366 - val_accuracy: 0.5740\n",
      "Epoch 6/10\n",
      "3750000/3750000 [==============================] - 68s 18us/sample - loss: 1.1351 - accuracy: 0.5760 - val_loss: 1.1353 - val_accuracy: 0.5813\n",
      "Epoch 7/10\n",
      "3750000/3750000 [==============================] - 69s 18us/sample - loss: 1.1342 - accuracy: 0.5765 - val_loss: 1.1342 - val_accuracy: 0.5787\n",
      "Epoch 8/10\n",
      "3750000/3750000 [==============================] - 67s 18us/sample - loss: 1.1334 - accuracy: 0.5768 - val_loss: 1.1411 - val_accuracy: 0.5809\n",
      "Epoch 9/10\n",
      "3750000/3750000 [==============================] - 69s 18us/sample - loss: 1.1318 - accuracy: 0.5798 - val_loss: 1.1287 - val_accuracy: 0.5868\n",
      "Epoch 10/10\n",
      "3750000/3750000 [==============================] - 69s 19us/sample - loss: 1.1249 - accuracy: 0.5866 - val_loss: 1.1226 - val_accuracy: 0.5895\n"
     ]
    },
    {
     "data": {
      "text/plain": [
       "<tensorflow.python.keras.callbacks.History at 0x22a8bd07320>"
      ]
     },
     "execution_count": 27,
     "metadata": {},
     "output_type": "execute_result"
    }
   ],
   "source": [
    "x_train,x_test,y_train,y_test = get_data(zeros=True)\n",
    "modelf = resnet(layer_size=20, dropout=0.1, depth=3)\n",
    "modelf.compile(loss='sparse_categorical_crossentropy',optimizer='sgd',metrics=['accuracy'])\n",
    "modelf.fit(x_train, y_train, epochs=10, validation_data=(x_test,y_test), batch_size=80, verbose=1)"
   ]
  },
  {
   "cell_type": "code",
   "execution_count": 28,
   "metadata": {},
   "outputs": [],
   "source": [
    "x = np.concatenate((x_train, x_test))\n",
    "y = np.concatenate((y_train, y_test))\n",
    "pred = modelf.predict(x)"
   ]
  },
  {
   "cell_type": "code",
   "execution_count": 29,
   "metadata": {},
   "outputs": [
    {
     "name": "stdout",
     "output_type": "stream",
     "text": [
      "Accuracy: 0.5895556\n"
     ]
    }
   ],
   "source": [
    "correct = 0\n",
    "incorrect = 0\n",
    "\n",
    "for i in range(len(y)):\n",
    "    if np.argmax(pred[i]) == y[i]:\n",
    "        correct += 1\n",
    "    else:\n",
    "        incorrect += 1\n",
    "\n",
    "print('Accuracy:',correct/(correct+incorrect))"
   ]
  },
  {
   "cell_type": "markdown",
   "metadata": {},
   "source": [
    "Flat data model"
   ]
  },
  {
   "cell_type": "code",
   "execution_count": 18,
   "metadata": {},
   "outputs": [],
   "source": [
    "# Create model for flat signal type (batches 1-6)\n",
    "x_tr1,x_t1,y_tr1,y_t1 = get_data(1)\n",
    "x_tr2,x_t2,y_tr2,y_t2 = get_data(2)\n",
    "x_tr3,x_t3,y_tr3,y_t3 = get_data(3)\n",
    "x_tr4,x_t4,y_tr4,y_t4 = get_data(4)\n",
    "x_tr5,x_t5,y_tr5,y_t5 = get_data(5)\n",
    "x_tr6,x_t6,y_tr6,y_t6 = get_data(6)\n",
    "x_train = np.concatenate((x_tr1,x_tr2,x_tr3,x_tr4,x_tr5,x_tr6))\n",
    "x_test = np.concatenate((x_t1,x_t2,x_t3,x_t4,x_t5,x_t6))\n",
    "y_train = np.concatenate((y_tr1,y_tr2,y_tr3,y_tr4,y_tr5,y_tr6))\n",
    "y_test = np.concatenate((y_t1,y_t2,y_t3,y_t4,y_t5,y_t6))"
   ]
  },
  {
   "cell_type": "code",
   "execution_count": 8,
   "metadata": {},
   "outputs": [
    {
     "name": "stdout",
     "output_type": "stream",
     "text": [
      "Train on 2249994 samples, validate on 750000 samples\n",
      "Epoch 1/6\n",
      "2249994/2249994 [==============================] - 37s 16us/sample - loss: 0.4956 - accuracy: 0.8280 - val_loss: 0.3937 - val_accuracy: 0.8565\n",
      "Epoch 2/6\n",
      "2249994/2249994 [==============================] - 38s 17us/sample - loss: 0.3976 - accuracy: 0.8554 - val_loss: 0.3895 - val_accuracy: 0.8574\n",
      "Epoch 3/6\n",
      "2249994/2249994 [==============================] - 39s 17us/sample - loss: 0.3864 - accuracy: 0.8591 - val_loss: 0.3776 - val_accuracy: 0.8633\n",
      "Epoch 4/6\n",
      "2249994/2249994 [==============================] - 40s 18us/sample - loss: 0.3830 - accuracy: 0.8599 - val_loss: 0.3840 - val_accuracy: 0.8609\n",
      "Epoch 5/6\n",
      "2249994/2249994 [==============================] - 40s 18us/sample - loss: 0.3812 - accuracy: 0.8607 - val_loss: 0.3751 - val_accuracy: 0.8617\n",
      "Epoch 6/6\n",
      "2249994/2249994 [==============================] - 41s 18us/sample - loss: 0.3801 - accuracy: 0.8609 - val_loss: 0.3775 - val_accuracy: 0.8626\n"
     ]
    },
    {
     "data": {
      "text/plain": [
       "<tensorflow.python.keras.callbacks.History at 0x22a9555c780>"
      ]
     },
     "execution_count": 8,
     "metadata": {},
     "output_type": "execute_result"
    }
   ],
   "source": [
    "model1 = resnet(layer_size=20, dropout=0.1, depth=2) #175,4\n",
    "model1.compile(loss='sparse_categorical_crossentropy', optimizer='sgd', metrics=['accuracy'])\n",
    "model1.fit(x_train, y_train, epochs=6, validation_data=(x_test,y_test), batch_size=80, verbose=1)"
   ]
  },
  {
   "cell_type": "code",
   "execution_count": 19,
   "metadata": {},
   "outputs": [],
   "source": [
    "x = np.concatenate((x_train, x_test))\n",
    "y = np.concatenate((y_train, y_test))\n",
    "pred = model1.predict(x)"
   ]
  },
  {
   "cell_type": "code",
   "execution_count": 20,
   "metadata": {},
   "outputs": [
    {
     "name": "stdout",
     "output_type": "stream",
     "text": [
      "Accuracy: 0.8626407252814505\n"
     ]
    }
   ],
   "source": [
    "correct = 0\n",
    "incorrect = 0\n",
    "\n",
    "for i in range(len(y)):#range(len(x_test)):\n",
    "    if np.argmax(pred[i]) == y[i]:\n",
    "        correct += 1\n",
    "    else:\n",
    "        incorrect += 1\n",
    "\n",
    "print('Accuracy:',correct/(correct+incorrect))"
   ]
  },
  {
   "cell_type": "code",
   "execution_count": 71,
   "metadata": {},
   "outputs": [],
   "source": [
    "model1.save('../Models/resnet_flat_85.h5')"
   ]
  },
  {
   "cell_type": "markdown",
   "metadata": {},
   "source": [
    "Parabolic data model"
   ]
  },
  {
   "cell_type": "code",
   "execution_count": 24,
   "metadata": {},
   "outputs": [],
   "source": [
    "# Create model for parabolic signal type (batches 2,7-10)\n",
    "x_tr2,x_t2,y_tr2,y_t2 = get_data(2)\n",
    "x_tr7,x_t7,y_tr7,y_t7 = get_data(7)\n",
    "x_tr8,x_t8,y_tr8,y_t8 = get_data(8)\n",
    "x_tr9,x_t9,y_tr9,y_t9 = get_data(9)\n",
    "x_tr10,x_t10,y_tr10,y_t10 = get_data(10)\n",
    "x_train = np.concatenate((x_tr2,x_tr7,x_tr8,x_tr9,x_tr10))\n",
    "x_test = np.concatenate((x_t2,x_t7,x_t8,x_t9,x_t10))\n",
    "y_train = np.concatenate((y_tr2,y_tr7,y_tr8,y_tr9,y_tr10))\n",
    "y_test = np.concatenate((y_t2,y_t7,y_t8,y_t9,y_t10))"
   ]
  },
  {
   "cell_type": "code",
   "execution_count": 9,
   "metadata": {},
   "outputs": [
    {
     "name": "stdout",
     "output_type": "stream",
     "text": [
      "Train on 1874995 samples, validate on 625000 samples\n",
      "Epoch 1/6\n",
      "1874995/1874995 [==============================] - 32s 17us/sample - loss: 1.3607 - accuracy: 0.4774 - val_loss: 1.2941 - val_accuracy: 0.5087\n",
      "Epoch 2/6\n",
      "1874995/1874995 [==============================] - 34s 18us/sample - loss: 1.2926 - accuracy: 0.5032 - val_loss: 1.3212 - val_accuracy: 0.4759\n",
      "Epoch 3/6\n",
      "1874995/1874995 [==============================] - 35s 19us/sample - loss: 1.2770 - accuracy: 0.5100 - val_loss: 1.2652 - val_accuracy: 0.5132\n",
      "Epoch 4/6\n",
      "1874995/1874995 [==============================] - 35s 19us/sample - loss: 1.2694 - accuracy: 0.5129 - val_loss: 1.2775 - val_accuracy: 0.5051\n",
      "Epoch 5/6\n",
      "1874995/1874995 [==============================] - 35s 19us/sample - loss: 1.2628 - accuracy: 0.5152 - val_loss: 1.2748 - val_accuracy: 0.5115\n",
      "Epoch 6/6\n",
      "1874995/1874995 [==============================] - 36s 19us/sample - loss: 1.2580 - accuracy: 0.5169 - val_loss: 1.2471 - val_accuracy: 0.5238\n"
     ]
    },
    {
     "data": {
      "text/plain": [
       "<tensorflow.python.keras.callbacks.History at 0x22a95729f98>"
      ]
     },
     "execution_count": 9,
     "metadata": {},
     "output_type": "execute_result"
    }
   ],
   "source": [
    "model = resnet(layer_size=30, dropout=0.1, depth=2) #300,2\n",
    "model.compile(loss='sparse_categorical_crossentropy',optimizer='sgd',metrics=['accuracy'])\n",
    "model.fit(x_train, y_train, epochs=6, validation_data=(x_test,y_test), batch_size=80, verbose=1)"
   ]
  },
  {
   "cell_type": "code",
   "execution_count": 25,
   "metadata": {},
   "outputs": [],
   "source": [
    "x = np.concatenate((x_train, x_test))\n",
    "y = np.concatenate((y_train, y_test))\n",
    "pred = model.predict(x)"
   ]
  },
  {
   "cell_type": "code",
   "execution_count": 26,
   "metadata": {},
   "outputs": [
    {
     "name": "stdout",
     "output_type": "stream",
     "text": [
      "Accuracy: 0.523508647017294\n"
     ]
    }
   ],
   "source": [
    "correct = 0\n",
    "incorrect = 0\n",
    "\n",
    "for i in range(len(y)):#range(len(x_test)):\n",
    "    if np.argmax(pred[i]) == y[i]:\n",
    "        correct += 1\n",
    "    else:\n",
    "        incorrect += 1\n",
    "\n",
    "print('Accuracy:',correct/(correct+incorrect))"
   ]
  },
  {
   "cell_type": "code",
   "execution_count": 72,
   "metadata": {},
   "outputs": [],
   "source": [
    "model.save('../Models/resnet_curvy_49.h5')"
   ]
  }
 ],
 "metadata": {
  "kernelspec": {
   "display_name": "Python 3",
   "language": "python",
   "name": "python3"
  },
  "language_info": {
   "codemirror_mode": {
    "name": "ipython",
    "version": 3
   },
   "file_extension": ".py",
   "mimetype": "text/x-python",
   "name": "python",
   "nbconvert_exporter": "python",
   "pygments_lexer": "ipython3",
   "version": "3.7.2"
  }
 },
 "nbformat": 4,
 "nbformat_minor": 4
}
