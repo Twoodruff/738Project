{
 "cells": [
  {
   "cell_type": "code",
   "execution_count": 1,
   "metadata": {},
   "outputs": [],
   "source": [
    "# Run if using tensorflow2.0+\n",
    "import pandas as pd\n",
    "import numpy as np\n",
    "import sklearn\n",
    "from sklearn.model_selection import train_test_split\n",
    "from tensorflow.keras.models import Sequential, Model\n",
    "from tensorflow.keras.layers import Dense, Dropout, Flatten, Add, Activation, InputLayer\n",
    "from tensorflow.keras import Input"
   ]
  },
  {
   "cell_type": "code",
   "execution_count": null,
   "metadata": {},
   "outputs": [],
   "source": [
    "import pandas as pd\n",
    "import numpy as np\n",
    "from keras.models import Sequential\n",
    "from keras.layers import Dense, Dropout, Flatten, Add, Activation\n",
    "from keras import Input"
   ]
  },
  {
   "cell_type": "code",
   "execution_count": 2,
   "metadata": {},
   "outputs": [
    {
     "data": {
      "text/plain": [
       "0     0.248030\n",
       "1     0.197173\n",
       "3     0.133722\n",
       "2     0.110785\n",
       "4     0.080682\n",
       "5     0.055575\n",
       "7     0.053003\n",
       "8     0.049037\n",
       "6     0.037622\n",
       "9     0.027224\n",
       "10    0.007147\n",
       "Name: open_channels, dtype: float64"
      ]
     },
     "execution_count": 2,
     "metadata": {},
     "output_type": "execute_result"
    }
   ],
   "source": [
    "df_train = pd.read_csv('../Data/train.csv')\n",
    "df_train['open_channels'].value_counts(normalize=True)"
   ]
  },
  {
   "cell_type": "code",
   "execution_count": 14,
   "metadata": {},
   "outputs": [],
   "source": [
    "def get_data(batch_num='all', zeros = True, randomize=True):\n",
    "    #create training data per batch\n",
    "    batch_size = 500000\n",
    "    if batch_num == 'all':\n",
    "        beg = 0\n",
    "        end = 499999999\n",
    "        print('Training on all data')\n",
    "    else:\n",
    "        batch = batch_num\n",
    "        beg = (batch-1)*batch_size \n",
    "        end = batch*batch_size - 1\n",
    "    df_batch = df_train[beg:end]\n",
    "    # filter out the zero open_channels cases\n",
    "    if not zeros:\n",
    "        df_batch = df_batch.drop(df_batch[df_batch['open_channels']==0].index) #optional, added because model was always predicting 0\n",
    "        \n",
    "    # randomize \n",
    "    signal = np.array(df_batch.signal)\n",
    "    open_channels = np.array(df_batch.open_channels)\n",
    "    if randomize:\n",
    "        x_train, x_test, y_train, y_test = train_test_split(signal,open_channels,test_size=0.25)\n",
    "        x_train = np.reshape(x_train, (-1,1))\n",
    "        y_train.reshape(-1,1)\n",
    "        x_test = np.reshape(x_test, (-1,1))\n",
    "        y_test.reshape(-1,1)\n",
    "    \n",
    "    return x_train, x_test, y_train, y_test"
   ]
  },
  {
   "cell_type": "code",
   "execution_count": 7,
   "metadata": {},
   "outputs": [],
   "source": [
    "def resnet(layer_size=64, dropout=0, depth=1):\n",
    "    #model params\n",
    "    layer = layer_size\n",
    "    dropout = dropout\n",
    "    layers = depth\n",
    "    \n",
    "    #create model\n",
    "    inputs = Input(shape=(1,))\n",
    "\n",
    "    if depth > 0:\n",
    "        k = Dense(layer, activation='relu')(inputs)\n",
    "        k = Dense(layer, activation='relu')(k)\n",
    "        k = Dropout(dropout)(k)\n",
    "        block1 = Add()([k, inputs])\n",
    "        kl = Dense(20, activation='relu')(block1)\n",
    "        \n",
    "        if depth > 1:\n",
    "            k = Dense(layer, activation='relu')(block1)\n",
    "            k = Dense(layer, activation='relu')(k)\n",
    "            k = Dropout(dropout)(k)\n",
    "            block2 = Add()([k, block1])\n",
    "            kl = Dense(20, activation='relu')(block2)\n",
    "\n",
    "            if depth > 2:\n",
    "                k = Dense(layer, activation='relu')(block2)\n",
    "                k = Dense(layer, activation='relu')(k)\n",
    "                k = Dropout(dropout)(k)\n",
    "                block3 = Add()([k, block2])\n",
    "                kl = Dense(20, activation='relu')(block3)\n",
    "\n",
    "                if depth > 3:\n",
    "                    k = Dense(layer, activation='relu')(block3)\n",
    "                    k = Dense(layer, activation='relu')(k)\n",
    "                    k = Dropout(dropout)(k)\n",
    "                    block4 = Add()([k, block3])\n",
    "                    kl = Dense(20, activation='relu')(block4)\n",
    "                    \n",
    "                    if depth > 4:\n",
    "                        k = Dense(layer, activation='relu')(block4)\n",
    "                        k = Dense(layer, activation='relu')(k)\n",
    "                        k = Dropout(dropout)(k)\n",
    "                        block5 = Add()([k, block4])\n",
    "                        kl = Dense(20, activation='relu')(block5)\n",
    "                        \n",
    "                        if depth > 5:\n",
    "                            k = Dense(layer, activation='relu')(block5)\n",
    "                            k = Dense(layer, activation='relu')(k)\n",
    "                            k = Dropout(dropout)(k)\n",
    "                            block6 = Add()([k, block5])\n",
    "                            kl = Dense(20, activation='relu')(block6)\n",
    "                        \n",
    "                            if depth > 6:\n",
    "                                k = Dense(layer, activation='relu')(block6)\n",
    "                                k = Dense(layer, activation='relu')(k)\n",
    "                                k = Dropout(dropout)(k)\n",
    "                                block7 = Add()([k, block6])\n",
    "                                kl = Dense(20, activation='relu')(block7)\n",
    "                                \n",
    "                                if depth > 7:\n",
    "                                    k = Dense(layer, activation='relu')(block7)\n",
    "                                    k = Dense(layer, activation='relu')(k)\n",
    "                                    k = Dropout(dropout)(k)\n",
    "                                    block8 = Add()([k, block7])\n",
    "                                    kl = Dense(20, activation='relu')(block8)\n",
    "\n",
    "    outputs = Dense(units=1, activation='relu')(kl)\n",
    "    \n",
    "    model = Model(inputs,outputs)\n",
    "    return model"
   ]
  },
  {
   "cell_type": "code",
   "execution_count": 16,
   "metadata": {},
   "outputs": [
    {
     "name": "stdout",
     "output_type": "stream",
     "text": [
      "Train on 11899 samples, validate on 3967 samples\n",
      "Epoch 1/5\n",
      "11899/11899 [==============================] - 2s 150us/sample - loss: 1.0268 - accuracy: 0.0082 - val_loss: 1.0000 - val_accuracy: 0.0000e+00\n",
      "Epoch 2/5\n",
      "11899/11899 [==============================] - 1s 100us/sample - loss: 1.0000 - accuracy: 0.0000e+00 - val_loss: 1.0000 - val_accuracy: 0.0000e+00\n",
      "Epoch 3/5\n",
      "11899/11899 [==============================] - 1s 96us/sample - loss: 1.0000 - accuracy: 0.0000e+00 - val_loss: 1.0000 - val_accuracy: 0.0000e+00\n",
      "Epoch 4/5\n",
      "11899/11899 [==============================] - 1s 100us/sample - loss: 1.0000 - accuracy: 0.0000e+00 - val_loss: 1.0000 - val_accuracy: 0.0000e+00\n",
      "Epoch 5/5\n",
      "11899/11899 [==============================] - 1s 100us/sample - loss: 1.0000 - accuracy: 0.0000e+00 - val_loss: 1.0000 - val_accuracy: 0.0000e+00\n"
     ]
    },
    {
     "data": {
      "text/plain": [
       "<tensorflow.python.keras.callbacks.History at 0x24e1f1a0198>"
      ]
     },
     "execution_count": 16,
     "metadata": {},
     "output_type": "execute_result"
    }
   ],
   "source": [
    "x_train,x_test,y_train,y_test = get_data(1,zeros=False)\n",
    "model = resnet(layer_size=256, dropout=0.1, depth=8)\n",
    "model.compile(loss='mean_squared_error',optimizer='sgd',metrics=['accuracy'])\n",
    "model.fit(x_train, y_train, epochs=5, validation_data=(x_test,y_test), batch_size=100, verbose=1)"
   ]
  },
  {
   "cell_type": "code",
   "execution_count": 12,
   "metadata": {},
   "outputs": [
    {
     "data": {
      "text/plain": [
       "0.0"
      ]
     },
     "execution_count": 12,
     "metadata": {},
     "output_type": "execute_result"
    }
   ],
   "source": [
    "pred = model.predict(x_test)\n",
    "np.average(pred)\n",
    "np.max(pred)"
   ]
  },
  {
   "cell_type": "code",
   "execution_count": 61,
   "metadata": {},
   "outputs": [
    {
     "name": "stdout",
     "output_type": "stream",
     "text": [
      "Train on 14503 samples, validate on 4835 samples\n",
      "Epoch 1/10\n",
      "14503/14503 [==============================] - 2s 139us/sample - loss: 1.0005 - accuracy: 0.0045 - val_loss: 1.0000 - val_accuracy: 0.0000e+00\n",
      "Epoch 2/10\n",
      "14503/14503 [==============================] - 1s 102us/sample - loss: 1.0000 - accuracy: 0.0000e+00 - val_loss: 1.0000 - val_accuracy: 0.0000e+00\n",
      "Epoch 3/10\n",
      "14503/14503 [==============================] - 1s 102us/sample - loss: 1.0000 - accuracy: 0.0000e+00 - val_loss: 1.0000 - val_accuracy: 0.0000e+00\n",
      "Epoch 4/10\n",
      "14503/14503 [==============================] - 1s 102us/sample - loss: 1.0000 - accuracy: 0.0000e+00 - val_loss: 1.0000 - val_accuracy: 0.0000e+00\n",
      "Epoch 5/10\n",
      "14503/14503 [==============================] - 2s 106us/sample - loss: 1.0000 - accuracy: 0.0000e+00 - val_loss: 1.0000 - val_accuracy: 0.0000e+00\n",
      "Epoch 6/10\n",
      "14503/14503 [==============================] - 2s 106us/sample - loss: 1.0000 - accuracy: 0.0000e+00 - val_loss: 1.0000 - val_accuracy: 0.0000e+00\n",
      "Epoch 7/10\n",
      "14503/14503 [==============================] - 2s 111us/sample - loss: 1.0000 - accuracy: 0.0000e+00 - val_loss: 1.0000 - val_accuracy: 0.0000e+00\n",
      "Epoch 8/10\n",
      "14503/14503 [==============================] - 2s 107us/sample - loss: 1.0000 - accuracy: 0.0000e+00 - val_loss: 1.0000 - val_accuracy: 0.0000e+00\n",
      "Epoch 9/10\n",
      "14503/14503 [==============================] - 2s 109us/sample - loss: 1.0000 - accuracy: 0.0000e+00 - val_loss: 1.0000 - val_accuracy: 0.0000e+00\n",
      "Epoch 10/10\n",
      "14503/14503 [==============================] - 2s 109us/sample - loss: 1.0000 - accuracy: 0.0000e+00 - val_loss: 1.0000 - val_accuracy: 0.0000e+00\n"
     ]
    },
    {
     "data": {
      "text/plain": [
       "<tensorflow.python.keras.callbacks.History at 0x19e0aaced30>"
      ]
     },
     "execution_count": 61,
     "metadata": {},
     "output_type": "execute_result"
    }
   ],
   "source": [
    "model,x_train,x_test,y_train,y_test = resnet(batch_num=2,layer_size=256, dropout=0.1, depth=8)\n",
    "model.compile(loss='mean_squared_error',optimizer='sgd',metrics=['accuracy'])\n",
    "model.fit(x_train, y_train, epochs=10, validation_data=(x_test,y_test), batch_size=100, verbose=1)"
   ]
  },
  {
   "cell_type": "code",
   "execution_count": 62,
   "metadata": {},
   "outputs": [
    {
     "name": "stdout",
     "output_type": "stream",
     "text": [
      "Train on 280496 samples, validate on 93499 samples\n",
      "Epoch 1/10\n",
      "280496/280496 [==============================] - 31s 112us/sample - loss: 1.0040 - accuracy: 4.7416e-04 - val_loss: 1.0000 - val_accuracy: 0.0000e+00\n",
      "Epoch 2/10\n",
      "280496/280496 [==============================] - 35s 126us/sample - loss: 1.0000 - accuracy: 0.0000e+00 - val_loss: 1.0000 - val_accuracy: 0.0000e+00\n",
      "Epoch 3/10\n",
      "280496/280496 [==============================] - 37s 131us/sample - loss: 1.0000 - accuracy: 0.0000e+00 - val_loss: 1.0000 - val_accuracy: 0.0000e+00\n",
      "Epoch 4/10\n",
      "280496/280496 [==============================] - 34s 120us/sample - loss: 1.0000 - accuracy: 0.0000e+00 - val_loss: 1.0000 - val_accuracy: 0.0000e+00\n",
      "Epoch 5/10\n",
      "280496/280496 [==============================] - 34s 123us/sample - loss: 1.0000 - accuracy: 0.0000e+00 - val_loss: 1.0000 - val_accuracy: 0.0000e+00\n",
      "Epoch 6/10\n",
      "280496/280496 [==============================] - 35s 124us/sample - loss: 1.0000 - accuracy: 0.0000e+00 - val_loss: 1.0000 - val_accuracy: 0.0000e+00\n",
      "Epoch 7/10\n",
      "280496/280496 [==============================] - 35s 126us/sample - loss: 1.0000 - accuracy: 0.0000e+00 - val_loss: 1.0000 - val_accuracy: 0.0000e+00\n",
      "Epoch 8/10\n",
      "280496/280496 [==============================] - 35s 126us/sample - loss: 1.0000 - accuracy: 0.0000e+00 - val_loss: 1.0000 - val_accuracy: 0.0000e+00\n",
      "Epoch 9/10\n",
      "280496/280496 [==============================] - 35s 126us/sample - loss: 1.0000 - accuracy: 0.0000e+00 - val_loss: 1.0000 - val_accuracy: 0.0000e+00\n",
      "Epoch 10/10\n",
      "280496/280496 [==============================] - 36s 128us/sample - loss: 1.0000 - accuracy: 0.0000e+00 - val_loss: 1.0000 - val_accuracy: 0.0000e+00\n"
     ]
    },
    {
     "data": {
      "text/plain": [
       "<tensorflow.python.keras.callbacks.History at 0x19e09bf2fd0>"
      ]
     },
     "execution_count": 62,
     "metadata": {},
     "output_type": "execute_result"
    }
   ],
   "source": [
    "model,x_train,x_test,y_train,y_test = resnet(batch_num=3,layer_size=256, dropout=0.1, depth=8)\n",
    "model.compile(loss='mean_squared_error',optimizer='sgd',metrics=['accuracy'])\n",
    "model.fit(x_train, y_train, epochs=10, validation_data=(x_test,y_test), batch_size=100, verbose=1)"
   ]
  },
  {
   "cell_type": "code",
   "execution_count": 63,
   "metadata": {},
   "outputs": [
    {
     "name": "stdout",
     "output_type": "stream",
     "text": [
      "Train on 366165 samples, validate on 122056 samples\n",
      "Epoch 1/10\n",
      "366165/366165 [==============================] - 39s 106us/sample - loss: 5.3942 - accuracy: 1.0105e-04 - val_loss: 5.3598 - val_accuracy: 0.0000e+00\n",
      "Epoch 2/10\n",
      "366165/366165 [==============================] - 43s 117us/sample - loss: 5.3526 - accuracy: 0.0000e+00 - val_loss: 5.3598 - val_accuracy: 0.0000e+00\n",
      "Epoch 3/10\n",
      "366165/366165 [==============================] - 43s 116us/sample - loss: 5.3526 - accuracy: 0.0000e+00 - val_loss: 5.3598 - val_accuracy: 0.0000e+00\n",
      "Epoch 4/10\n",
      "366165/366165 [==============================] - 43s 117us/sample - loss: 5.3526 - accuracy: 0.0000e+00 - val_loss: 5.3598 - val_accuracy: 0.0000e+00\n",
      "Epoch 5/10\n",
      "366165/366165 [==============================] - 43s 117us/sample - loss: 5.3526 - accuracy: 0.0000e+00 - val_loss: 5.3598 - val_accuracy: 0.0000e+00\n",
      "Epoch 6/10\n",
      "366165/366165 [==============================] - 43s 118us/sample - loss: 5.3526 - accuracy: 0.0000e+00 - val_loss: 5.3598 - val_accuracy: 0.0000e+00\n",
      "Epoch 7/10\n",
      "366165/366165 [==============================] - 43s 118us/sample - loss: 5.3526 - accuracy: 0.0000e+00 - val_loss: 5.3598 - val_accuracy: 0.0000e+00\n",
      "Epoch 8/10\n",
      "366165/366165 [==============================] - 44s 119us/sample - loss: 5.3526 - accuracy: 0.0000e+00 - val_loss: 5.3598 - val_accuracy: 0.0000e+00\n",
      "Epoch 9/10\n",
      "366165/366165 [==============================] - 43s 118us/sample - loss: 5.3526 - accuracy: 0.0000e+00 - val_loss: 5.3598 - val_accuracy: 0.0000e+00\n",
      "Epoch 10/10\n",
      "366165/366165 [==============================] - 45s 122us/sample - loss: 5.3526 - accuracy: 0.0000e+00 - val_loss: 5.3598 - val_accuracy: 0.0000e+00\n"
     ]
    },
    {
     "data": {
      "text/plain": [
       "<tensorflow.python.keras.callbacks.History at 0x19e0df90a58>"
      ]
     },
     "execution_count": 63,
     "metadata": {},
     "output_type": "execute_result"
    }
   ],
   "source": [
    "model,x_train,x_test,y_train,y_test = resnet(batch_num=4,layer_size=256, dropout=0.1, depth=8)\n",
    "model.compile(loss='mean_squared_error',optimizer='sgd',metrics=['accuracy'])\n",
    "model.fit(x_train, y_train, epochs=10, validation_data=(x_test,y_test), batch_size=100, verbose=1)"
   ]
  },
  {
   "cell_type": "code",
   "execution_count": 64,
   "metadata": {},
   "outputs": [
    {
     "name": "stdout",
     "output_type": "stream",
     "text": [
      "Train on 374997 samples, validate on 125000 samples\n",
      "Epoch 1/10\n",
      "374997/374997 [==============================] - 46s 122us/sample - loss: nan - accuracy: 0.0000e+00 - val_loss: nan - val_accuracy: 0.0000e+00\n",
      "Epoch 2/10\n",
      "374997/374997 [==============================] - 45s 120us/sample - loss: nan - accuracy: 0.0000e+00 - val_loss: nan - val_accuracy: 0.0000e+00\n",
      "Epoch 3/10\n",
      "374997/374997 [==============================] - 46s 122us/sample - loss: nan - accuracy: 0.0000e+00 - val_loss: nan - val_accuracy: 0.0000e+00\n",
      "Epoch 4/10\n",
      "374997/374997 [==============================] - 46s 122us/sample - loss: nan - accuracy: 0.0000e+00 - val_loss: nan - val_accuracy: 0.0000e+00\n",
      "Epoch 5/10\n",
      "374997/374997 [==============================] - 46s 123us/sample - loss: nan - accuracy: 0.0000e+00 - val_loss: nan - val_accuracy: 0.0000e+00\n",
      "Epoch 6/10\n",
      "374997/374997 [==============================] - 46s 121us/sample - loss: nan - accuracy: 0.0000e+00 - val_loss: nan - val_accuracy: 0.0000e+00\n",
      "Epoch 7/10\n",
      "374997/374997 [==============================] - 46s 123us/sample - loss: nan - accuracy: 0.0000e+00 - val_loss: nan - val_accuracy: 0.0000e+00\n",
      "Epoch 8/10\n",
      "374997/374997 [==============================] - 46s 123us/sample - loss: nan - accuracy: 0.0000e+00 - val_loss: nan - val_accuracy: 0.0000e+00\n",
      "Epoch 9/10\n",
      "374997/374997 [==============================] - 47s 124us/sample - loss: nan - accuracy: 0.0000e+00 - val_loss: nan - val_accuracy: 0.0000e+00\n",
      "Epoch 10/10\n",
      "374997/374997 [==============================] - 46s 121us/sample - loss: nan - accuracy: 0.0000e+00 - val_loss: nan - val_accuracy: 0.0000e+00\n"
     ]
    },
    {
     "data": {
      "text/plain": [
       "<tensorflow.python.keras.callbacks.History at 0x19e0e238da0>"
      ]
     },
     "execution_count": 64,
     "metadata": {},
     "output_type": "execute_result"
    }
   ],
   "source": [
    "model,x_train,x_test,y_train,y_test = resnet(batch_num=5,layer_size=256, dropout=0.1, depth=8)\n",
    "model.compile(loss='mean_squared_error',optimizer='sgd',metrics=['accuracy'])\n",
    "model.fit(x_train, y_train, epochs=10, validation_data=(x_test,y_test), batch_size=100, verbose=1)"
   ]
  },
  {
   "cell_type": "code",
   "execution_count": 65,
   "metadata": {},
   "outputs": [
    {
     "name": "stdout",
     "output_type": "stream",
     "text": [
      "Train on 374282 samples, validate on 124761 samples\n",
      "Epoch 1/10\n",
      "374282/374282 [==============================] - 46s 123us/sample - loss: 14.1956 - accuracy: 8.0153e-06 - val_loss: 13.8651 - val_accuracy: 0.0000e+00\n",
      "Epoch 2/10\n",
      "374282/374282 [==============================] - 45s 121us/sample - loss: 13.8270 - accuracy: 0.0000e+00 - val_loss: 13.8651 - val_accuracy: 0.0000e+00\n",
      "Epoch 3/10\n",
      "374282/374282 [==============================] - 45s 120us/sample - loss: 13.8270 - accuracy: 0.0000e+00 - val_loss: 13.8651 - val_accuracy: 0.0000e+00\n",
      "Epoch 4/10\n",
      "374282/374282 [==============================] - 46s 123us/sample - loss: 13.8270 - accuracy: 0.0000e+00 - val_loss: 13.8651 - val_accuracy: 0.0000e+00\n",
      "Epoch 5/10\n",
      "374282/374282 [==============================] - 45s 121us/sample - loss: 13.8270 - accuracy: 0.0000e+00 - val_loss: 13.8651 - val_accuracy: 0.0000e+00\n",
      "Epoch 6/10\n",
      "374282/374282 [==============================] - 48s 128us/sample - loss: 13.8270 - accuracy: 0.0000e+00 - val_loss: 13.8651 - val_accuracy: 0.0000e+00\n",
      "Epoch 7/10\n",
      "374282/374282 [==============================] - 47s 127us/sample - loss: 13.8270 - accuracy: 0.0000e+00 - val_loss: 13.8651 - val_accuracy: 0.0000e+00\n",
      "Epoch 8/10\n",
      "374282/374282 [==============================] - 49s 130us/sample - loss: 13.8270 - accuracy: 0.0000e+00 - val_loss: 13.8651 - val_accuracy: 0.0000e+00\n",
      "Epoch 9/10\n",
      "374282/374282 [==============================] - 47s 125us/sample - loss: 13.8270 - accuracy: 0.0000e+00 - val_loss: 13.8651 - val_accuracy: 0.0000e+00\n",
      "Epoch 10/10\n",
      "374282/374282 [==============================] - 48s 128us/sample - loss: 13.8270 - accuracy: 0.0000e+00 - val_loss: 13.8651 - val_accuracy: 0.0000e+00\n"
     ]
    },
    {
     "data": {
      "text/plain": [
       "<tensorflow.python.keras.callbacks.History at 0x19e1656da90>"
      ]
     },
     "execution_count": 65,
     "metadata": {},
     "output_type": "execute_result"
    }
   ],
   "source": [
    "model,x_train,x_test,y_train,y_test = resnet(batch_num=6,layer_size=256, dropout=0.1, depth=8)\n",
    "model.compile(loss='mean_squared_error',optimizer='sgd',metrics=['accuracy'])\n",
    "model.fit(x_train, y_train, epochs=10, validation_data=(x_test,y_test), batch_size=100, verbose=1)"
   ]
  },
  {
   "cell_type": "code",
   "execution_count": 77,
   "metadata": {},
   "outputs": [
    {
     "name": "stdout",
     "output_type": "stream",
     "text": [
      "Train on 282603 samples, validate on 94201 samples\n",
      "Epoch 1/5\n",
      "282603/282603 [==============================] - 22s 79us/sample - loss: 0.8128 - accuracy: 0.1913 - val_loss: 0.8044 - val_accuracy: 0.1958\n",
      "Epoch 2/5\n",
      "282603/282603 [==============================] - 21s 76us/sample - loss: 0.8053 - accuracy: 0.1957 - val_loss: 0.8036 - val_accuracy: 0.1971\n",
      "Epoch 3/5\n",
      "282603/282603 [==============================] - 22s 77us/sample - loss: 0.8038 - accuracy: 0.1967 - val_loss: 0.8023 - val_accuracy: 0.1978\n",
      "Epoch 4/5\n",
      "282603/282603 [==============================] - 22s 77us/sample - loss: 0.8027 - accuracy: 0.1976 - val_loss: 0.8014 - val_accuracy: 0.1986\n",
      "Epoch 5/5\n",
      "282603/282603 [==============================] - 22s 79us/sample - loss: 0.8017 - accuracy: 0.1984 - val_loss: 0.8004 - val_accuracy: 0.1996\n"
     ]
    },
    {
     "data": {
      "text/plain": [
       "<tensorflow.python.keras.callbacks.History at 0x19e098189e8>"
      ]
     },
     "execution_count": 77,
     "metadata": {},
     "output_type": "execute_result"
    }
   ],
   "source": [
    "model,x_train,x_test,y_train,y_test = resnet(batch_num=7,layer_size=256, dropout=0.1, depth=5)\n",
    "model.compile(loss='mean_squared_error',optimizer='sgd',metrics=['accuracy'])\n",
    "model.fit(x_train, y_train, epochs=5, validation_data=(x_test,y_test), batch_size=100, verbose=1)"
   ]
  },
  {
   "cell_type": "code",
   "execution_count": 68,
   "metadata": {},
   "outputs": [
    {
     "name": "stdout",
     "output_type": "stream",
     "text": [
      "Train on 365658 samples, validate on 121887 samples\n",
      "Epoch 1/5\n",
      "365658/365658 [==============================] - 49s 133us/sample - loss: 5.3087 - accuracy: 1.0939e-05 - val_loss: 5.3323 - val_accuracy: 0.0000e+00\n",
      "Epoch 2/5\n",
      "365658/365658 [==============================] - 47s 128us/sample - loss: 5.3086 - accuracy: 0.0000e+00 - val_loss: 5.3323 - val_accuracy: 0.0000e+00\n",
      "Epoch 3/5\n",
      "365658/365658 [==============================] - 47s 128us/sample - loss: 5.3086 - accuracy: 0.0000e+00 - val_loss: 5.3323 - val_accuracy: 0.0000e+00\n",
      "Epoch 4/5\n",
      "365658/365658 [==============================] - 49s 133us/sample - loss: 5.3086 - accuracy: 0.0000e+00 - val_loss: 5.3323 - val_accuracy: 0.0000e+00\n",
      "Epoch 5/5\n",
      "365658/365658 [==============================] - 49s 133us/sample - loss: 5.3086 - accuracy: 0.0000e+00 - val_loss: 5.3323 - val_accuracy: 0.0000e+00\n"
     ]
    },
    {
     "data": {
      "text/plain": [
       "<tensorflow.python.keras.callbacks.History at 0x19e1e01c080>"
      ]
     },
     "execution_count": 68,
     "metadata": {},
     "output_type": "execute_result"
    }
   ],
   "source": [
    "model,x_train,x_test,y_train,y_test = resnet(batch_num=8,layer_size=256, dropout=0.1, depth=8)\n",
    "model.compile(loss='mean_squared_error',optimizer='sgd',metrics=['accuracy'])\n",
    "model.fit(x_train, y_train, epochs=5, validation_data=(x_test,y_test), batch_size=100, verbose=1)"
   ]
  },
  {
   "cell_type": "code",
   "execution_count": 69,
   "metadata": {},
   "outputs": [
    {
     "name": "stdout",
     "output_type": "stream",
     "text": [
      "Train on 374274 samples, validate on 124758 samples\n",
      "Epoch 1/5\n",
      "374274/374274 [==============================] - 49s 131us/sample - loss: 15.8697 - accuracy: 0.0000e+00 - val_loss: 13.7863 - val_accuracy: 0.0000e+00\n",
      "Epoch 2/5\n",
      "374274/374274 [==============================] - 47s 125us/sample - loss: 13.8004 - accuracy: 0.0000e+00 - val_loss: 13.7863 - val_accuracy: 0.0000e+00\n",
      "Epoch 3/5\n",
      "374274/374274 [==============================] - 46s 123us/sample - loss: 13.8004 - accuracy: 0.0000e+00 - val_loss: 13.7863 - val_accuracy: 0.0000e+00\n",
      "Epoch 4/5\n",
      "374274/374274 [==============================] - 46s 123us/sample - loss: 13.8004 - accuracy: 0.0000e+00 - val_loss: 13.7863 - val_accuracy: 0.0000e+00\n",
      "Epoch 5/5\n",
      "374274/374274 [==============================] - 51s 135us/sample - loss: 13.8004 - accuracy: 0.0000e+00 - val_loss: 13.7863 - val_accuracy: 0.0000e+00\n"
     ]
    },
    {
     "data": {
      "text/plain": [
       "<tensorflow.python.keras.callbacks.History at 0x19e2cffd978>"
      ]
     },
     "execution_count": 69,
     "metadata": {},
     "output_type": "execute_result"
    }
   ],
   "source": [
    "model,x_train,x_test,y_train,y_test = resnet(batch_num=9,layer_size=256, dropout=0.1, depth=8)\n",
    "model.compile(loss='mean_squared_error',optimizer='sgd',metrics=['accuracy'])\n",
    "model.fit(x_train, y_train, epochs=5, validation_data=(x_test,y_test), batch_size=100, verbose=1)"
   ]
  },
  {
   "cell_type": "code",
   "execution_count": 4,
   "metadata": {},
   "outputs": [
    {
     "name": "stdout",
     "output_type": "stream",
     "text": [
      "Train on 374999 samples, validate on 125000 samples\n",
      "Epoch 1/5\n",
      "374999/374999 [==============================] - 38s 101us/sample - loss: nan - accuracy: 2.6667e-05 - val_loss: nan - val_accuracy: 0.0000e+00\n",
      "Epoch 2/5\n",
      "374999/374999 [==============================] - 43s 116us/sample - loss: nan - accuracy: 0.0000e+00 - val_loss: nan - val_accuracy: 0.0000e+00\n",
      "Epoch 3/5\n",
      "374999/374999 [==============================] - 44s 117us/sample - loss: nan - accuracy: 0.0000e+00 - val_loss: nan - val_accuracy: 0.0000e+00\n",
      "Epoch 4/5\n",
      "374999/374999 [==============================] - 45s 120us/sample - loss: nan - accuracy: 0.0000e+00 - val_loss: nan - val_accuracy: 0.0000e+00\n",
      "Epoch 5/5\n",
      "374999/374999 [==============================] - 45s 119us/sample - loss: nan - accuracy: 0.0000e+00 - val_loss: nan - val_accuracy: 0.0000e+00\n"
     ]
    },
    {
     "data": {
      "text/plain": [
       "<tensorflow.python.keras.callbacks.History at 0x273de2318d0>"
      ]
     },
     "execution_count": 4,
     "metadata": {},
     "output_type": "execute_result"
    }
   ],
   "source": [
    "model,x_train,x_test,y_train,y_test = resnet(batch_num=10,layer_size=256, dropout=0.1, depth=8)\n",
    "model.compile(loss='mean_squared_error',optimizer='sgd',metrics=['accuracy'])\n",
    "model.fit(x_train, y_train, epochs=5, validation_data=(x_test,y_test), batch_size=100, verbose=1)"
   ]
  },
  {
   "cell_type": "code",
   "execution_count": 6,
   "metadata": {},
   "outputs": [
    {
     "data": {
      "text/plain": [
       "array([[nan],\n",
       "       [nan],\n",
       "       [nan],\n",
       "       ...,\n",
       "       [nan],\n",
       "       [nan],\n",
       "       [nan]], dtype=float32)"
      ]
     },
     "execution_count": 6,
     "metadata": {},
     "output_type": "execute_result"
    }
   ],
   "source": [
    "model.predict(x_train)"
   ]
  },
  {
   "cell_type": "code",
   "execution_count": null,
   "metadata": {},
   "outputs": [],
   "source": []
  }
 ],
 "metadata": {
  "kernelspec": {
   "display_name": "Python 3",
   "language": "python",
   "name": "python3"
  },
  "language_info": {
   "codemirror_mode": {
    "name": "ipython",
    "version": 3
   },
   "file_extension": ".py",
   "mimetype": "text/x-python",
   "name": "python",
   "nbconvert_exporter": "python",
   "pygments_lexer": "ipython3",
   "version": "3.7.2"
  }
 },
 "nbformat": 4,
 "nbformat_minor": 4
}
