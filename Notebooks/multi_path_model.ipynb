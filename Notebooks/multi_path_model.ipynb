{
 "cells": [
  {
   "cell_type": "code",
   "execution_count": 1,
   "metadata": {},
   "outputs": [],
   "source": [
    "import pandas as pd\n",
    "import numpy as np\n",
    "import tensorflow as tf\n",
    "from tensorflow.keras.models import Sequential, Model\n",
    "from tensorflow.keras.layers import LSTM, SimpleRNN, Dense, Dropout, Flatten, Concatenate, Reshape\n",
    "from tensorflow.keras import Input\n",
    "from tensorflow.keras.optimizers import SGD, Adam\n",
    "from sklearn.model_selection import train_test_split"
   ]
  },
  {
   "cell_type": "code",
   "execution_count": 2,
   "metadata": {},
   "outputs": [
    {
     "data": {
      "text/html": [
       "<div>\n",
       "<style scoped>\n",
       "    .dataframe tbody tr th:only-of-type {\n",
       "        vertical-align: middle;\n",
       "    }\n",
       "\n",
       "    .dataframe tbody tr th {\n",
       "        vertical-align: top;\n",
       "    }\n",
       "\n",
       "    .dataframe thead th {\n",
       "        text-align: right;\n",
       "    }\n",
       "</style>\n",
       "<table border=\"1\" class=\"dataframe\">\n",
       "  <thead>\n",
       "    <tr style=\"text-align: right;\">\n",
       "      <th></th>\n",
       "      <th>time</th>\n",
       "      <th>signal</th>\n",
       "      <th>binary_open_channels</th>\n",
       "      <th>oc_0</th>\n",
       "      <th>oc_1</th>\n",
       "      <th>oc_2</th>\n",
       "      <th>oc_3</th>\n",
       "      <th>oc_4</th>\n",
       "      <th>oc_5</th>\n",
       "      <th>oc_6</th>\n",
       "      <th>oc_7</th>\n",
       "      <th>oc_8</th>\n",
       "      <th>oc_9</th>\n",
       "      <th>oc_10</th>\n",
       "      <th>open_channels</th>\n",
       "    </tr>\n",
       "  </thead>\n",
       "  <tbody>\n",
       "    <tr>\n",
       "      <th>0</th>\n",
       "      <td>0.0001</td>\n",
       "      <td>-2.7600</td>\n",
       "      <td>0</td>\n",
       "      <td>1</td>\n",
       "      <td>0</td>\n",
       "      <td>0</td>\n",
       "      <td>0</td>\n",
       "      <td>0</td>\n",
       "      <td>0</td>\n",
       "      <td>0</td>\n",
       "      <td>0</td>\n",
       "      <td>0</td>\n",
       "      <td>0</td>\n",
       "      <td>0</td>\n",
       "      <td>0</td>\n",
       "    </tr>\n",
       "    <tr>\n",
       "      <th>1</th>\n",
       "      <td>0.0002</td>\n",
       "      <td>-2.8557</td>\n",
       "      <td>0</td>\n",
       "      <td>1</td>\n",
       "      <td>0</td>\n",
       "      <td>0</td>\n",
       "      <td>0</td>\n",
       "      <td>0</td>\n",
       "      <td>0</td>\n",
       "      <td>0</td>\n",
       "      <td>0</td>\n",
       "      <td>0</td>\n",
       "      <td>0</td>\n",
       "      <td>0</td>\n",
       "      <td>0</td>\n",
       "    </tr>\n",
       "    <tr>\n",
       "      <th>2</th>\n",
       "      <td>0.0003</td>\n",
       "      <td>-2.4074</td>\n",
       "      <td>0</td>\n",
       "      <td>1</td>\n",
       "      <td>0</td>\n",
       "      <td>0</td>\n",
       "      <td>0</td>\n",
       "      <td>0</td>\n",
       "      <td>0</td>\n",
       "      <td>0</td>\n",
       "      <td>0</td>\n",
       "      <td>0</td>\n",
       "      <td>0</td>\n",
       "      <td>0</td>\n",
       "      <td>0</td>\n",
       "    </tr>\n",
       "    <tr>\n",
       "      <th>3</th>\n",
       "      <td>0.0004</td>\n",
       "      <td>-3.1404</td>\n",
       "      <td>0</td>\n",
       "      <td>1</td>\n",
       "      <td>0</td>\n",
       "      <td>0</td>\n",
       "      <td>0</td>\n",
       "      <td>0</td>\n",
       "      <td>0</td>\n",
       "      <td>0</td>\n",
       "      <td>0</td>\n",
       "      <td>0</td>\n",
       "      <td>0</td>\n",
       "      <td>0</td>\n",
       "      <td>0</td>\n",
       "    </tr>\n",
       "    <tr>\n",
       "      <th>4</th>\n",
       "      <td>0.0005</td>\n",
       "      <td>-3.1525</td>\n",
       "      <td>0</td>\n",
       "      <td>1</td>\n",
       "      <td>0</td>\n",
       "      <td>0</td>\n",
       "      <td>0</td>\n",
       "      <td>0</td>\n",
       "      <td>0</td>\n",
       "      <td>0</td>\n",
       "      <td>0</td>\n",
       "      <td>0</td>\n",
       "      <td>0</td>\n",
       "      <td>0</td>\n",
       "      <td>0</td>\n",
       "    </tr>\n",
       "    <tr>\n",
       "      <th>...</th>\n",
       "      <td>...</td>\n",
       "      <td>...</td>\n",
       "      <td>...</td>\n",
       "      <td>...</td>\n",
       "      <td>...</td>\n",
       "      <td>...</td>\n",
       "      <td>...</td>\n",
       "      <td>...</td>\n",
       "      <td>...</td>\n",
       "      <td>...</td>\n",
       "      <td>...</td>\n",
       "      <td>...</td>\n",
       "      <td>...</td>\n",
       "      <td>...</td>\n",
       "      <td>...</td>\n",
       "    </tr>\n",
       "    <tr>\n",
       "      <th>4999995</th>\n",
       "      <td>499.9996</td>\n",
       "      <td>2.9194</td>\n",
       "      <td>1</td>\n",
       "      <td>0</td>\n",
       "      <td>0</td>\n",
       "      <td>0</td>\n",
       "      <td>0</td>\n",
       "      <td>0</td>\n",
       "      <td>0</td>\n",
       "      <td>0</td>\n",
       "      <td>1</td>\n",
       "      <td>0</td>\n",
       "      <td>0</td>\n",
       "      <td>0</td>\n",
       "      <td>7</td>\n",
       "    </tr>\n",
       "    <tr>\n",
       "      <th>4999996</th>\n",
       "      <td>499.9997</td>\n",
       "      <td>2.6980</td>\n",
       "      <td>1</td>\n",
       "      <td>0</td>\n",
       "      <td>0</td>\n",
       "      <td>0</td>\n",
       "      <td>0</td>\n",
       "      <td>0</td>\n",
       "      <td>0</td>\n",
       "      <td>0</td>\n",
       "      <td>1</td>\n",
       "      <td>0</td>\n",
       "      <td>0</td>\n",
       "      <td>0</td>\n",
       "      <td>7</td>\n",
       "    </tr>\n",
       "    <tr>\n",
       "      <th>4999997</th>\n",
       "      <td>499.9998</td>\n",
       "      <td>4.5164</td>\n",
       "      <td>1</td>\n",
       "      <td>0</td>\n",
       "      <td>0</td>\n",
       "      <td>0</td>\n",
       "      <td>0</td>\n",
       "      <td>0</td>\n",
       "      <td>0</td>\n",
       "      <td>0</td>\n",
       "      <td>0</td>\n",
       "      <td>1</td>\n",
       "      <td>0</td>\n",
       "      <td>0</td>\n",
       "      <td>8</td>\n",
       "    </tr>\n",
       "    <tr>\n",
       "      <th>4999998</th>\n",
       "      <td>499.9999</td>\n",
       "      <td>5.6397</td>\n",
       "      <td>1</td>\n",
       "      <td>0</td>\n",
       "      <td>0</td>\n",
       "      <td>0</td>\n",
       "      <td>0</td>\n",
       "      <td>0</td>\n",
       "      <td>0</td>\n",
       "      <td>0</td>\n",
       "      <td>0</td>\n",
       "      <td>0</td>\n",
       "      <td>1</td>\n",
       "      <td>0</td>\n",
       "      <td>9</td>\n",
       "    </tr>\n",
       "    <tr>\n",
       "      <th>4999999</th>\n",
       "      <td>500.0000</td>\n",
       "      <td>5.3792</td>\n",
       "      <td>1</td>\n",
       "      <td>0</td>\n",
       "      <td>0</td>\n",
       "      <td>0</td>\n",
       "      <td>0</td>\n",
       "      <td>0</td>\n",
       "      <td>0</td>\n",
       "      <td>0</td>\n",
       "      <td>0</td>\n",
       "      <td>0</td>\n",
       "      <td>1</td>\n",
       "      <td>0</td>\n",
       "      <td>9</td>\n",
       "    </tr>\n",
       "  </tbody>\n",
       "</table>\n",
       "<p>5000000 rows × 15 columns</p>\n",
       "</div>"
      ],
      "text/plain": [
       "             time  signal  binary_open_channels  oc_0  oc_1  oc_2  oc_3  oc_4  \\\n",
       "0          0.0001 -2.7600                     0     1     0     0     0     0   \n",
       "1          0.0002 -2.8557                     0     1     0     0     0     0   \n",
       "2          0.0003 -2.4074                     0     1     0     0     0     0   \n",
       "3          0.0004 -3.1404                     0     1     0     0     0     0   \n",
       "4          0.0005 -3.1525                     0     1     0     0     0     0   \n",
       "...           ...     ...                   ...   ...   ...   ...   ...   ...   \n",
       "4999995  499.9996  2.9194                     1     0     0     0     0     0   \n",
       "4999996  499.9997  2.6980                     1     0     0     0     0     0   \n",
       "4999997  499.9998  4.5164                     1     0     0     0     0     0   \n",
       "4999998  499.9999  5.6397                     1     0     0     0     0     0   \n",
       "4999999  500.0000  5.3792                     1     0     0     0     0     0   \n",
       "\n",
       "         oc_5  oc_6  oc_7  oc_8  oc_9  oc_10  open_channels  \n",
       "0           0     0     0     0     0      0              0  \n",
       "1           0     0     0     0     0      0              0  \n",
       "2           0     0     0     0     0      0              0  \n",
       "3           0     0     0     0     0      0              0  \n",
       "4           0     0     0     0     0      0              0  \n",
       "...       ...   ...   ...   ...   ...    ...            ...  \n",
       "4999995     0     0     1     0     0      0              7  \n",
       "4999996     0     0     1     0     0      0              7  \n",
       "4999997     0     0     0     1     0      0              8  \n",
       "4999998     0     0     0     0     1      0              9  \n",
       "4999999     0     0     0     0     1      0              9  \n",
       "\n",
       "[5000000 rows x 15 columns]"
      ]
     },
     "execution_count": 2,
     "metadata": {},
     "output_type": "execute_result"
    }
   ],
   "source": [
    "df_train = pd.read_csv('../Data/train.csv')\n",
    "df_train['binary_open_channels'] = [int(x != 0) for x in df_train.open_channels]\n",
    "open_channels = df_train.open_channels\n",
    "df_train = pd.get_dummies(df_train, prefix = 'oc',columns=['open_channels'])\n",
    "df_train['open_channels'] = open_channels\n",
    "df_train"
   ]
  },
  {
   "cell_type": "code",
   "execution_count": 3,
   "metadata": {},
   "outputs": [],
   "source": [
    "signal = np.array(df_train.signal)\n",
    "open_channels = np.array(df_train)\n",
    "categorical_output = df_train[['oc_0','oc_1','oc_2','oc_3','oc_4','oc_5','oc_6','oc_7','oc_8','oc_9','oc_10']]\n",
    "\n",
    "data = np.zeros((len(signal), 12))\n",
    "data[:, 0] = signal\n",
    "data[:, 1:] = categorical_output\n",
    "data = data.reshape((1000, 5000, 12))\n",
    "np.random.shuffle(data)\n",
    "\n",
    "x = data[:,:, 0].reshape((1000,5000,1))\n",
    "y = data[:,:, 1:].reshape((1000,5000,11))"
   ]
  },
  {
   "cell_type": "code",
   "execution_count": 4,
   "metadata": {},
   "outputs": [
    {
     "data": {
      "text/plain": [
       "((1000, 5000, 1), (1000, 5000, 11))"
      ]
     },
     "execution_count": 4,
     "metadata": {},
     "output_type": "execute_result"
    }
   ],
   "source": [
    "np.shape(x),np.shape(y)"
   ]
  },
  {
   "cell_type": "code",
   "execution_count": 5,
   "metadata": {},
   "outputs": [],
   "source": [
    "x_train, x_test, y_train, y_test = train_test_split(x,y,test_size = .3)"
   ]
  },
  {
   "cell_type": "code",
   "execution_count": 12,
   "metadata": {},
   "outputs": [],
   "source": [
    "inputs = Input(shape=(5000,1,))\n",
    "\n",
    "layer1_a = LSTM(units=3, return_sequences=True,input_shape=(5000,1,))(inputs)\n",
    "layer2_a = Dense(5,activation='relu')(layer1_a)\n",
    "\n",
    "layer1_b = LSTM(units=5, return_sequences=True,input_shape=(5000,1,))(inputs)\n",
    "layer2_b = Dense(8,activation='relu')(layer1_b)\n",
    "\n",
    "layer1_c = SimpleRNN(units=10, return_sequences=True,input_shape=(5000,1,))(inputs)\n",
    "layer2_c = Dense(16,activation='relu')(layer1_c)\n",
    "concat = Concatenate()([layer2_a, layer2_b,layer2_c])\n",
    "\n",
    "outputs = Dense(units=11, activation='softmax')(concat)"
   ]
  },
  {
   "cell_type": "code",
   "execution_count": 13,
   "metadata": {},
   "outputs": [
    {
     "name": "stdout",
     "output_type": "stream",
     "text": [
      "Model: \"model_2\"\n",
      "__________________________________________________________________________________________________\n",
      "Layer (type)                    Output Shape         Param #     Connected to                     \n",
      "==================================================================================================\n",
      "input_3 (InputLayer)            [(None, 5000, 1)]    0                                            \n",
      "__________________________________________________________________________________________________\n",
      "lstm (LSTM)                     (None, 5000, 3)      60          input_3[0][0]                    \n",
      "__________________________________________________________________________________________________\n",
      "lstm_1 (LSTM)                   (None, 5000, 5)      140         input_3[0][0]                    \n",
      "__________________________________________________________________________________________________\n",
      "simple_rnn_6 (SimpleRNN)        (None, 5000, 10)     120         input_3[0][0]                    \n",
      "__________________________________________________________________________________________________\n",
      "dense_8 (Dense)                 (None, 5000, 5)      20          lstm[0][0]                       \n",
      "__________________________________________________________________________________________________\n",
      "dense_9 (Dense)                 (None, 5000, 8)      48          lstm_1[0][0]                     \n",
      "__________________________________________________________________________________________________\n",
      "dense_10 (Dense)                (None, 5000, 16)     176         simple_rnn_6[0][0]               \n",
      "__________________________________________________________________________________________________\n",
      "concatenate_2 (Concatenate)     (None, 5000, 29)     0           dense_8[0][0]                    \n",
      "                                                                 dense_9[0][0]                    \n",
      "                                                                 dense_10[0][0]                   \n",
      "__________________________________________________________________________________________________\n",
      "dense_11 (Dense)                (None, 5000, 11)     330         concatenate_2[0][0]              \n",
      "==================================================================================================\n",
      "Total params: 894\n",
      "Trainable params: 894\n",
      "Non-trainable params: 0\n",
      "__________________________________________________________________________________________________\n"
     ]
    }
   ],
   "source": [
    "model = Model(inputs,outputs)\n",
    "opt = Adam(learning_rate=.01,beta_1=0.95)\n",
    "model.compile(loss='categorical_crossentropy',optimizer=opt,metrics=['accuracy'])\n",
    "model.summary()"
   ]
  },
  {
   "cell_type": "code",
   "execution_count": 15,
   "metadata": {},
   "outputs": [
    {
     "name": "stdout",
     "output_type": "stream",
     "text": [
      "Train on 700 samples, validate on 300 samples\n",
      "Epoch 1/10\n",
      "700/700 [==============================] - 67s 96ms/sample - loss: 1.3622 - accuracy: 0.4945 - val_loss: 1.3260 - val_accuracy: 0.4970\n",
      "Epoch 2/10\n",
      "700/700 [==============================] - 73s 105ms/sample - loss: 1.3402 - accuracy: 0.4815 - val_loss: 1.2978 - val_accuracy: 0.4969\n",
      "Epoch 3/10\n",
      "700/700 [==============================] - 104s 149ms/sample - loss: 1.3150 - accuracy: 0.5006 - val_loss: 1.2805 - val_accuracy: 0.5163\n",
      "Epoch 4/10\n",
      "700/700 [==============================] - 94s 135ms/sample - loss: 1.2860 - accuracy: 0.5206 - val_loss: 1.2559 - val_accuracy: 0.5312\n",
      "Epoch 5/10\n",
      "700/700 [==============================] - 91s 130ms/sample - loss: 1.2614 - accuracy: 0.5292 - val_loss: 1.2149 - val_accuracy: 0.5661\n",
      "Epoch 6/10\n",
      "700/700 [==============================] - 87s 124ms/sample - loss: 1.2280 - accuracy: 0.5404 - val_loss: 1.2043 - val_accuracy: 0.5523\n",
      "Epoch 7/10\n",
      "700/700 [==============================] - 86s 122ms/sample - loss: 1.1994 - accuracy: 0.5587 - val_loss: 1.1615 - val_accuracy: 0.5653\n",
      "Epoch 8/10\n",
      "700/700 [==============================] - 85s 122ms/sample - loss: 1.1863 - accuracy: 0.5632 - val_loss: 1.1557 - val_accuracy: 0.5860\n",
      "Epoch 9/10\n",
      "700/700 [==============================] - 96s 138ms/sample - loss: 1.1632 - accuracy: 0.5751 - val_loss: 1.1485 - val_accuracy: 0.5868\n",
      "Epoch 10/10\n",
      "700/700 [==============================] - 96s 137ms/sample - loss: 1.1263 - accuracy: 0.5897 - val_loss: 1.0873 - val_accuracy: 0.6123\n"
     ]
    },
    {
     "data": {
      "text/plain": [
       "<tensorflow.python.keras.callbacks.History at 0x1fc70133e48>"
      ]
     },
     "execution_count": 15,
     "metadata": {},
     "output_type": "execute_result"
    }
   ],
   "source": [
    "model.fit(x_train, y_train, epochs=10, validation_data=(x_test,y_test),verbose=1)"
   ]
  },
  {
   "cell_type": "code",
   "execution_count": 16,
   "metadata": {},
   "outputs": [
    {
     "name": "stdout",
     "output_type": "stream",
     "text": [
      "Train on 700 samples, validate on 300 samples\n",
      "Epoch 1/5\n",
      "700/700 [==============================] - 89s 127ms/sample - loss: 1.0982 - accuracy: 0.6008 - val_loss: 1.0837 - val_accuracy: 0.6076\n",
      "Epoch 2/5\n",
      "700/700 [==============================] - 101s 145ms/sample - loss: 1.0829 - accuracy: 0.6100 - val_loss: 1.0376 - val_accuracy: 0.6351\n",
      "Epoch 3/5\n",
      "700/700 [==============================] - 86s 123ms/sample - loss: 1.0448 - accuracy: 0.6224 - val_loss: 1.0148 - val_accuracy: 0.6431\n",
      "Epoch 4/5\n",
      "700/700 [==============================] - 89s 127ms/sample - loss: 1.0247 - accuracy: 0.6302 - val_loss: 1.0041 - val_accuracy: 0.6437\n",
      "Epoch 5/5\n",
      "700/700 [==============================] - 87s 124ms/sample - loss: 1.0955 - accuracy: 0.6172 - val_loss: 1.0091 - val_accuracy: 0.6497\n"
     ]
    },
    {
     "data": {
      "text/plain": [
       "<tensorflow.python.keras.callbacks.History at 0x1fc6ec068c8>"
      ]
     },
     "execution_count": 16,
     "metadata": {},
     "output_type": "execute_result"
    }
   ],
   "source": [
    "model.fit(x_train, y_train, epochs=5, validation_data=(x_test,y_test),verbose=1)"
   ]
  },
  {
   "cell_type": "code",
   "execution_count": 19,
   "metadata": {},
   "outputs": [],
   "source": [
    "results = model.predict(x)"
   ]
  },
  {
   "cell_type": "code",
   "execution_count": 27,
   "metadata": {},
   "outputs": [
    {
     "name": "stdout",
     "output_type": "stream",
     "text": [
      "0.6363824\n"
     ]
    }
   ],
   "source": [
    "correct = 0\n",
    "incorrect = 0\n",
    "for i in range(len(results)):\n",
    "    for j in range(len(results[0])):\n",
    "        a = np.where(results[i][j] == np.amax(results[i][j]))[0]\n",
    "        b = np.where(y[i][j] == np.amax(y[i][j]))[0]\n",
    "        if a[0] == b[0]:\n",
    "            correct += 1\n",
    "        else:\n",
    "            incorrect += 1\n",
    "print(correct/(correct+incorrect))"
   ]
  },
  {
   "cell_type": "code",
   "execution_count": 29,
   "metadata": {},
   "outputs": [],
   "source": [
    "model.save('../Models/multi_path_model_63.h5')"
   ]
  }
 ],
 "metadata": {
  "kernelspec": {
   "display_name": "Python 3",
   "language": "python",
   "name": "python3"
  },
  "language_info": {
   "codemirror_mode": {
    "name": "ipython",
    "version": 3
   },
   "file_extension": ".py",
   "mimetype": "text/x-python",
   "name": "python",
   "nbconvert_exporter": "python",
   "pygments_lexer": "ipython3",
   "version": "3.7.6"
  }
 },
 "nbformat": 4,
 "nbformat_minor": 4
}
