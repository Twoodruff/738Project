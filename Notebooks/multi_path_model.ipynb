{
 "cells": [
  {
   "cell_type": "code",
   "execution_count": 1,
   "metadata": {},
   "outputs": [],
   "source": [
    "import pandas as pd\n",
    "import numpy as np\n",
    "import tensorflow as tf\n",
    "from tensorflow.keras.models import Sequential, Model\n",
    "from tensorflow.keras.layers import LSTM, SimpleRNN, Dense, Dropout, Flatten, Concatenate, Reshape\n",
    "from tensorflow.keras import Input\n",
    "from tensorflow.keras.optimizers import SGD, Adam\n",
    "from sklearn.model_selection import train_test_split"
   ]
  },
  {
   "cell_type": "code",
   "execution_count": 2,
   "metadata": {},
   "outputs": [
    {
     "data": {
      "text/html": [
       "<div>\n",
       "<style scoped>\n",
       "    .dataframe tbody tr th:only-of-type {\n",
       "        vertical-align: middle;\n",
       "    }\n",
       "\n",
       "    .dataframe tbody tr th {\n",
       "        vertical-align: top;\n",
       "    }\n",
       "\n",
       "    .dataframe thead th {\n",
       "        text-align: right;\n",
       "    }\n",
       "</style>\n",
       "<table border=\"1\" class=\"dataframe\">\n",
       "  <thead>\n",
       "    <tr style=\"text-align: right;\">\n",
       "      <th></th>\n",
       "      <th>time</th>\n",
       "      <th>signal</th>\n",
       "      <th>binary_open_channels</th>\n",
       "      <th>oc_0</th>\n",
       "      <th>oc_1</th>\n",
       "      <th>oc_2</th>\n",
       "      <th>oc_3</th>\n",
       "      <th>oc_4</th>\n",
       "      <th>oc_5</th>\n",
       "      <th>oc_6</th>\n",
       "      <th>oc_7</th>\n",
       "      <th>oc_8</th>\n",
       "      <th>oc_9</th>\n",
       "      <th>oc_10</th>\n",
       "      <th>open_channels</th>\n",
       "    </tr>\n",
       "  </thead>\n",
       "  <tbody>\n",
       "    <tr>\n",
       "      <td>0</td>\n",
       "      <td>0.0001</td>\n",
       "      <td>-2.7600</td>\n",
       "      <td>0</td>\n",
       "      <td>1</td>\n",
       "      <td>0</td>\n",
       "      <td>0</td>\n",
       "      <td>0</td>\n",
       "      <td>0</td>\n",
       "      <td>0</td>\n",
       "      <td>0</td>\n",
       "      <td>0</td>\n",
       "      <td>0</td>\n",
       "      <td>0</td>\n",
       "      <td>0</td>\n",
       "      <td>0</td>\n",
       "    </tr>\n",
       "    <tr>\n",
       "      <td>1</td>\n",
       "      <td>0.0002</td>\n",
       "      <td>-2.8557</td>\n",
       "      <td>0</td>\n",
       "      <td>1</td>\n",
       "      <td>0</td>\n",
       "      <td>0</td>\n",
       "      <td>0</td>\n",
       "      <td>0</td>\n",
       "      <td>0</td>\n",
       "      <td>0</td>\n",
       "      <td>0</td>\n",
       "      <td>0</td>\n",
       "      <td>0</td>\n",
       "      <td>0</td>\n",
       "      <td>0</td>\n",
       "    </tr>\n",
       "    <tr>\n",
       "      <td>2</td>\n",
       "      <td>0.0003</td>\n",
       "      <td>-2.4074</td>\n",
       "      <td>0</td>\n",
       "      <td>1</td>\n",
       "      <td>0</td>\n",
       "      <td>0</td>\n",
       "      <td>0</td>\n",
       "      <td>0</td>\n",
       "      <td>0</td>\n",
       "      <td>0</td>\n",
       "      <td>0</td>\n",
       "      <td>0</td>\n",
       "      <td>0</td>\n",
       "      <td>0</td>\n",
       "      <td>0</td>\n",
       "    </tr>\n",
       "    <tr>\n",
       "      <td>3</td>\n",
       "      <td>0.0004</td>\n",
       "      <td>-3.1404</td>\n",
       "      <td>0</td>\n",
       "      <td>1</td>\n",
       "      <td>0</td>\n",
       "      <td>0</td>\n",
       "      <td>0</td>\n",
       "      <td>0</td>\n",
       "      <td>0</td>\n",
       "      <td>0</td>\n",
       "      <td>0</td>\n",
       "      <td>0</td>\n",
       "      <td>0</td>\n",
       "      <td>0</td>\n",
       "      <td>0</td>\n",
       "    </tr>\n",
       "    <tr>\n",
       "      <td>4</td>\n",
       "      <td>0.0005</td>\n",
       "      <td>-3.1525</td>\n",
       "      <td>0</td>\n",
       "      <td>1</td>\n",
       "      <td>0</td>\n",
       "      <td>0</td>\n",
       "      <td>0</td>\n",
       "      <td>0</td>\n",
       "      <td>0</td>\n",
       "      <td>0</td>\n",
       "      <td>0</td>\n",
       "      <td>0</td>\n",
       "      <td>0</td>\n",
       "      <td>0</td>\n",
       "      <td>0</td>\n",
       "    </tr>\n",
       "    <tr>\n",
       "      <td>...</td>\n",
       "      <td>...</td>\n",
       "      <td>...</td>\n",
       "      <td>...</td>\n",
       "      <td>...</td>\n",
       "      <td>...</td>\n",
       "      <td>...</td>\n",
       "      <td>...</td>\n",
       "      <td>...</td>\n",
       "      <td>...</td>\n",
       "      <td>...</td>\n",
       "      <td>...</td>\n",
       "      <td>...</td>\n",
       "      <td>...</td>\n",
       "      <td>...</td>\n",
       "      <td>...</td>\n",
       "    </tr>\n",
       "    <tr>\n",
       "      <td>4999995</td>\n",
       "      <td>499.9996</td>\n",
       "      <td>2.9194</td>\n",
       "      <td>1</td>\n",
       "      <td>0</td>\n",
       "      <td>0</td>\n",
       "      <td>0</td>\n",
       "      <td>0</td>\n",
       "      <td>0</td>\n",
       "      <td>0</td>\n",
       "      <td>0</td>\n",
       "      <td>1</td>\n",
       "      <td>0</td>\n",
       "      <td>0</td>\n",
       "      <td>0</td>\n",
       "      <td>7</td>\n",
       "    </tr>\n",
       "    <tr>\n",
       "      <td>4999996</td>\n",
       "      <td>499.9997</td>\n",
       "      <td>2.6980</td>\n",
       "      <td>1</td>\n",
       "      <td>0</td>\n",
       "      <td>0</td>\n",
       "      <td>0</td>\n",
       "      <td>0</td>\n",
       "      <td>0</td>\n",
       "      <td>0</td>\n",
       "      <td>0</td>\n",
       "      <td>1</td>\n",
       "      <td>0</td>\n",
       "      <td>0</td>\n",
       "      <td>0</td>\n",
       "      <td>7</td>\n",
       "    </tr>\n",
       "    <tr>\n",
       "      <td>4999997</td>\n",
       "      <td>499.9998</td>\n",
       "      <td>4.5164</td>\n",
       "      <td>1</td>\n",
       "      <td>0</td>\n",
       "      <td>0</td>\n",
       "      <td>0</td>\n",
       "      <td>0</td>\n",
       "      <td>0</td>\n",
       "      <td>0</td>\n",
       "      <td>0</td>\n",
       "      <td>0</td>\n",
       "      <td>1</td>\n",
       "      <td>0</td>\n",
       "      <td>0</td>\n",
       "      <td>8</td>\n",
       "    </tr>\n",
       "    <tr>\n",
       "      <td>4999998</td>\n",
       "      <td>499.9999</td>\n",
       "      <td>5.6397</td>\n",
       "      <td>1</td>\n",
       "      <td>0</td>\n",
       "      <td>0</td>\n",
       "      <td>0</td>\n",
       "      <td>0</td>\n",
       "      <td>0</td>\n",
       "      <td>0</td>\n",
       "      <td>0</td>\n",
       "      <td>0</td>\n",
       "      <td>0</td>\n",
       "      <td>1</td>\n",
       "      <td>0</td>\n",
       "      <td>9</td>\n",
       "    </tr>\n",
       "    <tr>\n",
       "      <td>4999999</td>\n",
       "      <td>500.0000</td>\n",
       "      <td>5.3792</td>\n",
       "      <td>1</td>\n",
       "      <td>0</td>\n",
       "      <td>0</td>\n",
       "      <td>0</td>\n",
       "      <td>0</td>\n",
       "      <td>0</td>\n",
       "      <td>0</td>\n",
       "      <td>0</td>\n",
       "      <td>0</td>\n",
       "      <td>0</td>\n",
       "      <td>1</td>\n",
       "      <td>0</td>\n",
       "      <td>9</td>\n",
       "    </tr>\n",
       "  </tbody>\n",
       "</table>\n",
       "<p>5000000 rows × 15 columns</p>\n",
       "</div>"
      ],
      "text/plain": [
       "             time  signal  binary_open_channels  oc_0  oc_1  oc_2  oc_3  oc_4  \\\n",
       "0          0.0001 -2.7600                     0     1     0     0     0     0   \n",
       "1          0.0002 -2.8557                     0     1     0     0     0     0   \n",
       "2          0.0003 -2.4074                     0     1     0     0     0     0   \n",
       "3          0.0004 -3.1404                     0     1     0     0     0     0   \n",
       "4          0.0005 -3.1525                     0     1     0     0     0     0   \n",
       "...           ...     ...                   ...   ...   ...   ...   ...   ...   \n",
       "4999995  499.9996  2.9194                     1     0     0     0     0     0   \n",
       "4999996  499.9997  2.6980                     1     0     0     0     0     0   \n",
       "4999997  499.9998  4.5164                     1     0     0     0     0     0   \n",
       "4999998  499.9999  5.6397                     1     0     0     0     0     0   \n",
       "4999999  500.0000  5.3792                     1     0     0     0     0     0   \n",
       "\n",
       "         oc_5  oc_6  oc_7  oc_8  oc_9  oc_10  open_channels  \n",
       "0           0     0     0     0     0      0              0  \n",
       "1           0     0     0     0     0      0              0  \n",
       "2           0     0     0     0     0      0              0  \n",
       "3           0     0     0     0     0      0              0  \n",
       "4           0     0     0     0     0      0              0  \n",
       "...       ...   ...   ...   ...   ...    ...            ...  \n",
       "4999995     0     0     1     0     0      0              7  \n",
       "4999996     0     0     1     0     0      0              7  \n",
       "4999997     0     0     0     1     0      0              8  \n",
       "4999998     0     0     0     0     1      0              9  \n",
       "4999999     0     0     0     0     1      0              9  \n",
       "\n",
       "[5000000 rows x 15 columns]"
      ]
     },
     "execution_count": 2,
     "metadata": {},
     "output_type": "execute_result"
    }
   ],
   "source": [
    "df_train = pd.read_csv('../Data/train.csv')\n",
    "df_train['binary_open_channels'] = [int(x != 0) for x in df_train.open_channels]\n",
    "open_channels = df_train.open_channels\n",
    "df_train = pd.get_dummies(df_train, prefix = 'oc',columns=['open_channels'])\n",
    "df_train['open_channels'] = open_channels\n",
    "df_train"
   ]
  },
  {
   "cell_type": "code",
   "execution_count": 3,
   "metadata": {},
   "outputs": [],
   "source": [
    "signal = np.array(df_train.signal)\n",
    "open_channels = np.array(df_train)\n",
    "categorical_output = df_train[['oc_0','oc_1','oc_2','oc_3','oc_4','oc_5','oc_6','oc_7','oc_8','oc_9','oc_10']]\n",
    "\n",
    "data = np.zeros((len(signal), 12))\n",
    "data[:, 0] = signal\n",
    "data[:, 1:] = categorical_output\n",
    "data = data.reshape((1000, 5000, 12))\n",
    "np.random.shuffle(data)\n",
    "\n",
    "x = data[:,:, 0].reshape((1000,5000,1))\n",
    "y = data[:,:, 1:].reshape((1000,5000,11))"
   ]
  },
  {
   "cell_type": "code",
   "execution_count": 4,
   "metadata": {},
   "outputs": [
    {
     "data": {
      "text/plain": [
       "((1000, 5000, 1), (1000, 5000, 11))"
      ]
     },
     "execution_count": 4,
     "metadata": {},
     "output_type": "execute_result"
    }
   ],
   "source": [
    "np.shape(x),np.shape(y)"
   ]
  },
  {
   "cell_type": "code",
   "execution_count": 5,
   "metadata": {},
   "outputs": [],
   "source": [
    "x_train, x_test, y_train, y_test = train_test_split(x,y,test_size = .3)"
   ]
  },
  {
   "cell_type": "code",
   "execution_count": 6,
   "metadata": {},
   "outputs": [],
   "source": [
    "inputs = Input(shape=(5000,1,))\n",
    "\n",
    "layer1_a = SimpleRNN(units=10, return_sequences=True,input_shape=(5000,1,))(inputs)\n",
    "layer2_a = Dense(16,activation='relu')(layer1_a)\n",
    "\n",
    "layer1_b = SimpleRNN(units=5, return_sequences=True,input_shape=(5000,1,))(inputs)\n",
    "layer2_b = Dense(8,activation='relu')(layer1_b)\n",
    "concat = Concatenate()([layer2_a, layer2_b])\n",
    "\n",
    "outputs = Dense(units=11, activation='softmax')(concat)"
   ]
  },
  {
   "cell_type": "code",
   "execution_count": 7,
   "metadata": {},
   "outputs": [
    {
     "name": "stdout",
     "output_type": "stream",
     "text": [
      "Model: \"model\"\n",
      "__________________________________________________________________________________________________\n",
      "Layer (type)                    Output Shape         Param #     Connected to                     \n",
      "==================================================================================================\n",
      "input_1 (InputLayer)            [(None, 5000, 1)]    0                                            \n",
      "__________________________________________________________________________________________________\n",
      "simple_rnn (SimpleRNN)          (None, 5000, 10)     120         input_1[0][0]                    \n",
      "__________________________________________________________________________________________________\n",
      "simple_rnn_1 (SimpleRNN)        (None, 5000, 5)      35          input_1[0][0]                    \n",
      "__________________________________________________________________________________________________\n",
      "dense (Dense)                   (None, 5000, 16)     176         simple_rnn[0][0]                 \n",
      "__________________________________________________________________________________________________\n",
      "dense_1 (Dense)                 (None, 5000, 8)      48          simple_rnn_1[0][0]               \n",
      "__________________________________________________________________________________________________\n",
      "concatenate (Concatenate)       (None, 5000, 24)     0           dense[0][0]                      \n",
      "                                                                 dense_1[0][0]                    \n",
      "__________________________________________________________________________________________________\n",
      "dense_2 (Dense)                 (None, 5000, 11)     275         concatenate[0][0]                \n",
      "==================================================================================================\n",
      "Total params: 654\n",
      "Trainable params: 654\n",
      "Non-trainable params: 0\n",
      "__________________________________________________________________________________________________\n"
     ]
    }
   ],
   "source": [
    "model = Model(inputs,outputs)\n",
    "opt = Adam(learning_rate=.01)\n",
    "model.compile(loss='categorical_crossentropy',optimizer=opt,metrics=['accuracy'])\n",
    "model.summary()"
   ]
  },
  {
   "cell_type": "code",
   "execution_count": 8,
   "metadata": {},
   "outputs": [
    {
     "name": "stdout",
     "output_type": "stream",
     "text": [
      "Train on 700 samples, validate on 300 samples\n",
      "Epoch 1/10\n",
      "700/700 [==============================] - 106s 152ms/sample - loss: 1.9082 - accuracy: 0.2948 - val_loss: 1.6078 - val_accuracy: 0.3714\n",
      "Epoch 2/10\n",
      "700/700 [==============================] - 105s 150ms/sample - loss: 1.5095 - accuracy: 0.4263 - val_loss: 1.4331 - val_accuracy: 0.4648\n",
      "Epoch 3/10\n",
      "700/700 [==============================] - 105s 150ms/sample - loss: 1.4014 - accuracy: 0.4653 - val_loss: 1.3605 - val_accuracy: 0.4769\n",
      "Epoch 4/10\n",
      "700/700 [==============================] - 105s 150ms/sample - loss: 1.3495 - accuracy: 0.4792 - val_loss: 1.3356 - val_accuracy: 0.5084\n",
      "Epoch 5/10\n",
      "700/700 [==============================] - 106s 151ms/sample - loss: 1.3160 - accuracy: 0.4967 - val_loss: 1.2908 - val_accuracy: 0.5132\n",
      "Epoch 6/10\n",
      "700/700 [==============================] - 104s 148ms/sample - loss: 1.2782 - accuracy: 0.5071 - val_loss: 1.2422 - val_accuracy: 0.5372\n",
      "Epoch 7/10\n",
      "700/700 [==============================] - 104s 149ms/sample - loss: 1.2626 - accuracy: 0.5254 - val_loss: 1.2319 - val_accuracy: 0.5441\n",
      "Epoch 8/10\n",
      "700/700 [==============================] - 104s 149ms/sample - loss: 1.2464 - accuracy: 0.5346 - val_loss: 1.2524 - val_accuracy: 0.4971\n",
      "Epoch 9/10\n",
      "700/700 [==============================] - 104s 149ms/sample - loss: 1.2261 - accuracy: 0.5401 - val_loss: 1.1697 - val_accuracy: 0.5598\n",
      "Epoch 10/10\n",
      "700/700 [==============================] - 104s 149ms/sample - loss: 1.1916 - accuracy: 0.5549 - val_loss: 1.1791 - val_accuracy: 0.5555\n"
     ]
    },
    {
     "data": {
      "text/plain": [
       "<tensorflow.python.keras.callbacks.History at 0x280bfe32550>"
      ]
     },
     "execution_count": 8,
     "metadata": {},
     "output_type": "execute_result"
    }
   ],
   "source": [
    "model.fit(x_train, y_train, epochs=10, validation_data=(x_test,y_test),verbose=1)"
   ]
  },
  {
   "cell_type": "code",
   "execution_count": 10,
   "metadata": {},
   "outputs": [
    {
     "name": "stdout",
     "output_type": "stream",
     "text": [
      "Train on 700 samples, validate on 300 samples\n",
      "Epoch 1/10\n",
      "700/700 [==============================] - 105s 149ms/sample - loss: 1.1993 - accuracy: 0.5461 - val_loss: 1.1720 - val_accuracy: 0.5728\n",
      "Epoch 2/10\n",
      "700/700 [==============================] - 104s 148ms/sample - loss: 1.1827 - accuracy: 0.5669 - val_loss: 1.1634 - val_accuracy: 0.5684\n",
      "Epoch 3/10\n",
      "700/700 [==============================] - 104s 149ms/sample - loss: 1.2046 - accuracy: 0.5582 - val_loss: 1.1585 - val_accuracy: 0.5746\n",
      "Epoch 4/10\n",
      "700/700 [==============================] - 105s 150ms/sample - loss: 1.1954 - accuracy: 0.5659 - val_loss: 1.1331 - val_accuracy: 0.5935\n",
      "Epoch 5/10\n",
      "700/700 [==============================] - 104s 148ms/sample - loss: 1.1597 - accuracy: 0.5767 - val_loss: 1.1301 - val_accuracy: 0.5828\n",
      "Epoch 6/10\n",
      "700/700 [==============================] - 103s 147ms/sample - loss: 1.1704 - accuracy: 0.5671 - val_loss: 1.1441 - val_accuracy: 0.5800\n",
      "Epoch 7/10\n",
      "700/700 [==============================] - 103s 148ms/sample - loss: 1.1724 - accuracy: 0.5619 - val_loss: 1.1693 - val_accuracy: 0.5740\n",
      "Epoch 8/10\n",
      "700/700 [==============================] - 105s 150ms/sample - loss: 1.1579 - accuracy: 0.5851 - val_loss: 1.1122 - val_accuracy: 0.6039\n",
      "Epoch 9/10\n",
      "700/700 [==============================] - 104s 149ms/sample - loss: 1.1731 - accuracy: 0.5721 - val_loss: 1.2215 - val_accuracy: 0.5442\n",
      "Epoch 10/10\n",
      "700/700 [==============================] - 104s 148ms/sample - loss: 1.2011 - accuracy: 0.5539 - val_loss: 1.1685 - val_accuracy: 0.5616\n"
     ]
    },
    {
     "data": {
      "text/plain": [
       "<tensorflow.python.keras.callbacks.History at 0x280c8d7d7b8>"
      ]
     },
     "execution_count": 10,
     "metadata": {},
     "output_type": "execute_result"
    }
   ],
   "source": [
    "model.fit(x_train, y_train, epochs=10, validation_data=(x_test,y_test),verbose=1)"
   ]
  },
  {
   "cell_type": "code",
   "execution_count": 11,
   "metadata": {},
   "outputs": [
    {
     "name": "stdout",
     "output_type": "stream",
     "text": [
      "Train on 700 samples, validate on 300 samples\n",
      "Epoch 1/5\n",
      "700/700 [==============================] - 105s 149ms/sample - loss: 1.1675 - accuracy: 0.5663 - val_loss: 1.1370 - val_accuracy: 0.5802\n",
      "Epoch 2/5\n",
      "700/700 [==============================] - 104s 149ms/sample - loss: 1.1437 - accuracy: 0.5629 - val_loss: 1.1104 - val_accuracy: 0.5883\n",
      "Epoch 3/5\n",
      "700/700 [==============================] - 105s 150ms/sample - loss: 1.1212 - accuracy: 0.5872 - val_loss: 1.0783 - val_accuracy: 0.6111\n",
      "Epoch 4/5\n",
      "700/700 [==============================] - 104s 149ms/sample - loss: 1.1065 - accuracy: 0.5952 - val_loss: 1.0583 - val_accuracy: 0.6267\n",
      "Epoch 5/5\n",
      "700/700 [==============================] - 104s 149ms/sample - loss: 1.0926 - accuracy: 0.5998 - val_loss: 1.0803 - val_accuracy: 0.6218\n"
     ]
    },
    {
     "data": {
      "text/plain": [
       "<tensorflow.python.keras.callbacks.History at 0x280c8e529e8>"
      ]
     },
     "execution_count": 11,
     "metadata": {},
     "output_type": "execute_result"
    }
   ],
   "source": [
    "model.fit(x_train, y_train, epochs=5, validation_data=(x_test,y_test),verbose=1)"
   ]
  },
  {
   "cell_type": "code",
   "execution_count": 12,
   "metadata": {},
   "outputs": [],
   "source": [
    "model.save('multi_path_model.h5')"
   ]
  }
 ],
 "metadata": {
  "kernelspec": {
   "display_name": "Python 3",
   "language": "python",
   "name": "python3"
  },
  "language_info": {
   "codemirror_mode": {
    "name": "ipython",
    "version": 3
   },
   "file_extension": ".py",
   "mimetype": "text/x-python",
   "name": "python",
   "nbconvert_exporter": "python",
   "pygments_lexer": "ipython3",
   "version": "3.7.0"
  }
 },
 "nbformat": 4,
 "nbformat_minor": 2
}
