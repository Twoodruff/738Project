{
 "cells": [
  {
   "cell_type": "code",
   "execution_count": 1,
   "metadata": {},
   "outputs": [
    {
     "name": "stderr",
     "output_type": "stream",
     "text": [
      "Using TensorFlow backend.\n"
     ]
    }
   ],
   "source": [
    "import pandas as pd\n",
    "import numpy as np\n",
    "from keras.models import Sequential\n",
    "from keras.layers import LSTM, SimpleRNN, Dense, Dropout, Flatten"
   ]
  },
  {
   "cell_type": "code",
   "execution_count": 2,
   "metadata": {},
   "outputs": [
    {
     "data": {
      "text/html": [
       "<div>\n",
       "<style scoped>\n",
       "    .dataframe tbody tr th:only-of-type {\n",
       "        vertical-align: middle;\n",
       "    }\n",
       "\n",
       "    .dataframe tbody tr th {\n",
       "        vertical-align: top;\n",
       "    }\n",
       "\n",
       "    .dataframe thead th {\n",
       "        text-align: right;\n",
       "    }\n",
       "</style>\n",
       "<table border=\"1\" class=\"dataframe\">\n",
       "  <thead>\n",
       "    <tr style=\"text-align: right;\">\n",
       "      <th></th>\n",
       "      <th>time</th>\n",
       "      <th>signal</th>\n",
       "      <th>open_channels</th>\n",
       "    </tr>\n",
       "  </thead>\n",
       "  <tbody>\n",
       "    <tr>\n",
       "      <td>0</td>\n",
       "      <td>0.0001</td>\n",
       "      <td>-2.7600</td>\n",
       "      <td>0</td>\n",
       "    </tr>\n",
       "    <tr>\n",
       "      <td>1</td>\n",
       "      <td>0.0002</td>\n",
       "      <td>-2.8557</td>\n",
       "      <td>0</td>\n",
       "    </tr>\n",
       "    <tr>\n",
       "      <td>2</td>\n",
       "      <td>0.0003</td>\n",
       "      <td>-2.4074</td>\n",
       "      <td>0</td>\n",
       "    </tr>\n",
       "    <tr>\n",
       "      <td>3</td>\n",
       "      <td>0.0004</td>\n",
       "      <td>-3.1404</td>\n",
       "      <td>0</td>\n",
       "    </tr>\n",
       "    <tr>\n",
       "      <td>4</td>\n",
       "      <td>0.0005</td>\n",
       "      <td>-3.1525</td>\n",
       "      <td>0</td>\n",
       "    </tr>\n",
       "    <tr>\n",
       "      <td>...</td>\n",
       "      <td>...</td>\n",
       "      <td>...</td>\n",
       "      <td>...</td>\n",
       "    </tr>\n",
       "    <tr>\n",
       "      <td>4999995</td>\n",
       "      <td>499.9996</td>\n",
       "      <td>2.9194</td>\n",
       "      <td>7</td>\n",
       "    </tr>\n",
       "    <tr>\n",
       "      <td>4999996</td>\n",
       "      <td>499.9997</td>\n",
       "      <td>2.6980</td>\n",
       "      <td>7</td>\n",
       "    </tr>\n",
       "    <tr>\n",
       "      <td>4999997</td>\n",
       "      <td>499.9998</td>\n",
       "      <td>4.5164</td>\n",
       "      <td>8</td>\n",
       "    </tr>\n",
       "    <tr>\n",
       "      <td>4999998</td>\n",
       "      <td>499.9999</td>\n",
       "      <td>5.6397</td>\n",
       "      <td>9</td>\n",
       "    </tr>\n",
       "    <tr>\n",
       "      <td>4999999</td>\n",
       "      <td>500.0000</td>\n",
       "      <td>5.3792</td>\n",
       "      <td>9</td>\n",
       "    </tr>\n",
       "  </tbody>\n",
       "</table>\n",
       "<p>5000000 rows × 3 columns</p>\n",
       "</div>"
      ],
      "text/plain": [
       "             time  signal  open_channels\n",
       "0          0.0001 -2.7600              0\n",
       "1          0.0002 -2.8557              0\n",
       "2          0.0003 -2.4074              0\n",
       "3          0.0004 -3.1404              0\n",
       "4          0.0005 -3.1525              0\n",
       "...           ...     ...            ...\n",
       "4999995  499.9996  2.9194              7\n",
       "4999996  499.9997  2.6980              7\n",
       "4999997  499.9998  4.5164              8\n",
       "4999998  499.9999  5.6397              9\n",
       "4999999  500.0000  5.3792              9\n",
       "\n",
       "[5000000 rows x 3 columns]"
      ]
     },
     "execution_count": 2,
     "metadata": {},
     "output_type": "execute_result"
    }
   ],
   "source": [
    "df_train = pd.read_csv('../Data/train.csv')\n",
    "df_train"
   ]
  },
  {
   "cell_type": "code",
   "execution_count": 3,
   "metadata": {},
   "outputs": [],
   "source": [
    "signal = np.array(df_train.signal)\n",
    "open_channels = np.array(df_train.open_channels)\n",
    "#signals = np.reshape(signal,(1))\n",
    "x = np.reshape(signal,(1000,5000,1))\n",
    "y = np.reshape(open_channels,(1000,5000,1))"
   ]
  },
  {
   "cell_type": "code",
   "execution_count": 4,
   "metadata": {},
   "outputs": [],
   "source": [
    "model = Sequential()\n",
    "model.add(SimpleRNN(units=20, return_sequences=True, input_shape=(5000,1,)))\n",
    "model.add(Dense(20,activation='relu'))\n",
    "model.add(Dense(units=1,activation='relu'))\n",
    "model.compile(loss='mean_squared_error',optimizer='sgd',metrics=['accuracy'])"
   ]
  },
  {
   "cell_type": "code",
   "execution_count": 5,
   "metadata": {},
   "outputs": [
    {
     "name": "stdout",
     "output_type": "stream",
     "text": [
      "Train on 700 samples, validate on 300 samples\n",
      "Epoch 1/10\n",
      "700/700 [==============================] - 127s 182ms/step - loss: 6.2359 - accuracy: 0.2154 - val_loss: 4.6726 - val_accuracy: 0.1123\n",
      "Epoch 2/10\n",
      "700/700 [==============================] - 125s 178ms/step - loss: 2.5769 - accuracy: 0.4908 - val_loss: 5.5044 - val_accuracy: 0.1029\n",
      "Epoch 3/10\n",
      "700/700 [==============================] - 131s 187ms/step - loss: 2.1440 - accuracy: 0.5078 - val_loss: 5.2780 - val_accuracy: 0.2072\n",
      "Epoch 4/10\n",
      "700/700 [==============================] - 124s 177ms/step - loss: 1.8707 - accuracy: 0.5753 - val_loss: 9.1681 - val_accuracy: 0.1688\n",
      "Epoch 5/10\n",
      "700/700 [==============================] - 124s 177ms/step - loss: 1.9205 - accuracy: 0.5815 - val_loss: 13.6565 - val_accuracy: 0.1131\n",
      "Epoch 6/10\n",
      "700/700 [==============================] - 124s 177ms/step - loss: 1.7527 - accuracy: 0.5915 - val_loss: 10.3522 - val_accuracy: 0.1626\n",
      "Epoch 7/10\n",
      "700/700 [==============================] - 129s 184ms/step - loss: 1.8549 - accuracy: 0.5872 - val_loss: 9.8658 - val_accuracy: 0.0924\n",
      "Epoch 8/10\n",
      "700/700 [==============================] - 124s 178ms/step - loss: 1.7293 - accuracy: 0.5946 - val_loss: 9.5525 - val_accuracy: 0.1213\n",
      "Epoch 9/10\n",
      "700/700 [==============================] - 127s 181ms/step - loss: 1.6750 - accuracy: 0.6139 - val_loss: 15.2035 - val_accuracy: 0.1062\n",
      "Epoch 10/10\n",
      "700/700 [==============================] - 135s 193ms/step - loss: 1.7640 - accuracy: 0.5896 - val_loss: 9.9948 - val_accuracy: 0.1129\n"
     ]
    },
    {
     "data": {
      "text/plain": [
       "<keras.callbacks.callbacks.History at 0x14b8e935f28>"
      ]
     },
     "execution_count": 5,
     "metadata": {},
     "output_type": "execute_result"
    }
   ],
   "source": [
    "model.fit(np.array(x), y, epochs=10, validation_split=.3,verbose=1)"
   ]
  },
  {
   "cell_type": "code",
   "execution_count": 22,
   "metadata": {},
   "outputs": [],
   "source": [
    "predictions = model.predict(x)"
   ]
  },
  {
   "cell_type": "code",
   "execution_count": 32,
   "metadata": {},
   "outputs": [
    {
     "data": {
      "text/plain": [
       "(3692391, 1044351, 195801, 67457)"
      ]
     },
     "execution_count": 32,
     "metadata": {},
     "output_type": "execute_result"
    }
   ],
   "source": [
    "tp = 0\n",
    "tn = 0\n",
    "fp = 0\n",
    "fn = 0\n",
    "for i in range(len(y)):\n",
    "    for j in range(len(y[i])):\n",
    "        actual = round(y[i][j][0])\n",
    "        pred = round(predictions[i][j][0])\n",
    "        if actual == 0 and pred == 0:\n",
    "            tn += 1\n",
    "        elif actual == 0 and pred > 0:\n",
    "            fp += 1\n",
    "        elif actual > 0 and pred == 0:\n",
    "            fn += 1\n",
    "        else:\n",
    "            tp += 1\n",
    "total = tp+tn+fp+fn"
   ]
  },
  {
   "cell_type": "code",
   "execution_count": 34,
   "metadata": {},
   "outputs": [
    {
     "name": "stdout",
     "output_type": "stream",
     "text": [
      "Accuracy: 94.73484\n",
      "True Positive Rate: 73.84782\n",
      "True Negative Rate: 20.88702\n",
      "False Postiive Rate: 3.91602\n",
      "False Negative Rate: 1.34914\n"
     ]
    }
   ],
   "source": [
    "print(\"Accuracy:\",(tp+tn)*100/total)\n",
    "print(\"True Positive Rate:\",tp*100/total)\n",
    "print(\"True Negative Rate:\",tn*100/total)\n",
    "print(\"False Postiive Rate:\",fp*100/total)\n",
    "print(\"False Negative Rate:\",fn*100/total)"
   ]
  },
  {
   "cell_type": "code",
   "execution_count": 38,
   "metadata": {},
   "outputs": [],
   "source": [
    "p_error = 0\n",
    "n_error = 0\n",
    "for i in range(len(y)):\n",
    "    for j in range(len(y[i])):\n",
    "        actual = y[i][j][0]\n",
    "        pred = predictions[i][j][0]\n",
    "        if round(actual) == 0:\n",
    "            n_error += abs(actual-pred)\n",
    "        else:\n",
    "            p_error += abs(actual-pred)"
   ]
  },
  {
   "cell_type": "code",
   "execution_count": 39,
   "metadata": {},
   "outputs": [
    {
     "name": "stdout",
     "output_type": "stream",
     "text": [
      "Average Error: 1.320657059439701\n",
      "Actual Positive Average Error: 1.2318114114205538\n",
      "Actual Negative Average Error: 0.08884564801914692\n"
     ]
    }
   ],
   "source": [
    "print(\"Average Error:\",(p_error+n_error)/total)\n",
    "print(\"Actual Positive Average Error:\",p_error/total)\n",
    "print(\"Actual Negative Average Error:\",n_error/total)"
   ]
  }
 ],
 "metadata": {
  "kernelspec": {
   "display_name": "Python 3",
   "language": "python",
   "name": "python3"
  },
  "language_info": {
   "name": ""
  }
 },
 "nbformat": 4,
 "nbformat_minor": 2
}
