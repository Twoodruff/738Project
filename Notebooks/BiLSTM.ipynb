{
  "nbformat": 4,
  "nbformat_minor": 0,
  "metadata": {
    "colab": {
      "name": "BiLSTM.ipynb",
      "provenance": []
    },
    "kernelspec": {
      "name": "python3",
      "display_name": "Python 3"
    },
    "accelerator": "GPU"
  },
  "cells": [
    {
      "cell_type": "code",
      "metadata": {
        "id": "OisYfo4FAFs-",
        "colab_type": "code",
        "colab": {}
      },
      "source": [
        "import pandas as pd\n",
        "import numpy as np\n",
        "from tensorflow.keras.models import Sequential\n",
        "from tensorflow.keras.layers import LSTM, SimpleRNN, Dense, Dropout, Flatten, Bidirectional,TimeDistributed"
      ],
      "execution_count": 0,
      "outputs": []
    },
    {
      "cell_type": "code",
      "metadata": {
        "id": "Nx16mYq4AG3K",
        "colab_type": "code",
        "outputId": "834e659b-80ae-4ac2-fe6b-1a67e9f855a6",
        "colab": {
          "base_uri": "https://localhost:8080/",
          "height": 419
        }
      },
      "source": [
        "df_train = pd.read_csv('../content/drive/My Drive/train.csv')\n",
        "df_train"
      ],
      "execution_count": 2,
      "outputs": [
        {
          "output_type": "execute_result",
          "data": {
            "text/html": [
              "<div>\n",
              "<style scoped>\n",
              "    .dataframe tbody tr th:only-of-type {\n",
              "        vertical-align: middle;\n",
              "    }\n",
              "\n",
              "    .dataframe tbody tr th {\n",
              "        vertical-align: top;\n",
              "    }\n",
              "\n",
              "    .dataframe thead th {\n",
              "        text-align: right;\n",
              "    }\n",
              "</style>\n",
              "<table border=\"1\" class=\"dataframe\">\n",
              "  <thead>\n",
              "    <tr style=\"text-align: right;\">\n",
              "      <th></th>\n",
              "      <th>time</th>\n",
              "      <th>signal</th>\n",
              "      <th>open_channels</th>\n",
              "    </tr>\n",
              "  </thead>\n",
              "  <tbody>\n",
              "    <tr>\n",
              "      <th>0</th>\n",
              "      <td>0.0001</td>\n",
              "      <td>-2.7600</td>\n",
              "      <td>0</td>\n",
              "    </tr>\n",
              "    <tr>\n",
              "      <th>1</th>\n",
              "      <td>0.0002</td>\n",
              "      <td>-2.8557</td>\n",
              "      <td>0</td>\n",
              "    </tr>\n",
              "    <tr>\n",
              "      <th>2</th>\n",
              "      <td>0.0003</td>\n",
              "      <td>-2.4074</td>\n",
              "      <td>0</td>\n",
              "    </tr>\n",
              "    <tr>\n",
              "      <th>3</th>\n",
              "      <td>0.0004</td>\n",
              "      <td>-3.1404</td>\n",
              "      <td>0</td>\n",
              "    </tr>\n",
              "    <tr>\n",
              "      <th>4</th>\n",
              "      <td>0.0005</td>\n",
              "      <td>-3.1525</td>\n",
              "      <td>0</td>\n",
              "    </tr>\n",
              "    <tr>\n",
              "      <th>...</th>\n",
              "      <td>...</td>\n",
              "      <td>...</td>\n",
              "      <td>...</td>\n",
              "    </tr>\n",
              "    <tr>\n",
              "      <th>4999995</th>\n",
              "      <td>499.9996</td>\n",
              "      <td>2.9194</td>\n",
              "      <td>7</td>\n",
              "    </tr>\n",
              "    <tr>\n",
              "      <th>4999996</th>\n",
              "      <td>499.9997</td>\n",
              "      <td>2.6980</td>\n",
              "      <td>7</td>\n",
              "    </tr>\n",
              "    <tr>\n",
              "      <th>4999997</th>\n",
              "      <td>499.9998</td>\n",
              "      <td>4.5164</td>\n",
              "      <td>8</td>\n",
              "    </tr>\n",
              "    <tr>\n",
              "      <th>4999998</th>\n",
              "      <td>499.9999</td>\n",
              "      <td>5.6397</td>\n",
              "      <td>9</td>\n",
              "    </tr>\n",
              "    <tr>\n",
              "      <th>4999999</th>\n",
              "      <td>500.0000</td>\n",
              "      <td>5.3792</td>\n",
              "      <td>9</td>\n",
              "    </tr>\n",
              "  </tbody>\n",
              "</table>\n",
              "<p>5000000 rows × 3 columns</p>\n",
              "</div>"
            ],
            "text/plain": [
              "             time  signal  open_channels\n",
              "0          0.0001 -2.7600              0\n",
              "1          0.0002 -2.8557              0\n",
              "2          0.0003 -2.4074              0\n",
              "3          0.0004 -3.1404              0\n",
              "4          0.0005 -3.1525              0\n",
              "...           ...     ...            ...\n",
              "4999995  499.9996  2.9194              7\n",
              "4999996  499.9997  2.6980              7\n",
              "4999997  499.9998  4.5164              8\n",
              "4999998  499.9999  5.6397              9\n",
              "4999999  500.0000  5.3792              9\n",
              "\n",
              "[5000000 rows x 3 columns]"
            ]
          },
          "metadata": {
            "tags": []
          },
          "execution_count": 2
        }
      ]
    },
    {
      "cell_type": "code",
      "metadata": {
        "id": "gLsDuoIbAcPd",
        "colab_type": "code",
        "colab": {}
      },
      "source": [
        "signal = np.array(df_train.signal)\n",
        "open_channels = np.array(df_train.open_channels)\n",
        "#signals = np.reshape(signal,(1))\n",
        "data = np.zeros((len(signal), 2))\n",
        "data[:, 0] = signal\n",
        "data[:, 1] = open_channels\n",
        "data = data.reshape((1000, 5000, 2))\n",
        "np.random.shuffle(data)\n",
        "x = data[:,:, 0].reshape((1000,5000,1))\n",
        "y = data[:,:, 1].reshape((1000,5000,1))"
      ],
      "execution_count": 0,
      "outputs": []
    },
    {
      "cell_type": "code",
      "metadata": {
        "id": "yBPLynhPC30u",
        "colab_type": "code",
        "colab": {}
      },
      "source": [
        "model = Sequential()\n",
        "model.add(Bidirectional(LSTM(units=20, return_sequences=True, input_shape=(5000,1))))\n",
        "# model.add(Dense(20,activation='relu'))\n",
        "# model.add(Dense(units=1,activation='relu'))\n",
        "model.add(TimeDistributed(Dense(units=1,activation='relu')))\n",
        "model.compile(loss='mean_squared_error',optimizer='sgd',metrics=['accuracy'])"
      ],
      "execution_count": 0,
      "outputs": []
    },
    {
      "cell_type": "code",
      "metadata": {
        "id": "x-9XTN3mZfSH",
        "colab_type": "code",
        "outputId": "cb82e83d-fb77-413d-b7f6-559bd07d68e7",
        "colab": {
          "base_uri": "https://localhost:8080/",
          "height": 496
        }
      },
      "source": [
        "# train LSTM\n",
        "model.fit(x, y, epochs=10, validation_split=.3, batch_size=1, verbose=1)"
      ],
      "execution_count": 0,
      "outputs": [
        {
          "output_type": "stream",
          "text": [
            "Epoch 1/10\n",
            "WARNING:tensorflow:Layer bidirectional is casting an input tensor from dtype float64 to the layer's dtype of float32, which is new behavior in TensorFlow 2.  The layer has dtype float32 because it's dtype defaults to floatx.\n",
            "\n",
            "If you intended to run this layer in float32, you can safely ignore this warning. If in doubt, this warning is likely only an issue if you are porting a TensorFlow 1.X model to TensorFlow 2.\n",
            "\n",
            "To change all layers to have dtype float64 by default, call `tf.keras.backend.set_floatx('float64')`. To change just this layer, pass dtype='float64' to the layer constructor. If you are the author of this layer, you can disable autocasting by passing autocast=False to the base Layer constructor.\n",
            "\n",
            "700/700 [==============================] - 181s 258ms/step - loss: 3.1364 - accuracy: 0.3637 - val_loss: 2.6512 - val_accuracy: 0.3937\n",
            "Epoch 2/10\n",
            "700/700 [==============================] - 182s 260ms/step - loss: 2.9206 - accuracy: 0.3861 - val_loss: 2.6883 - val_accuracy: 0.3843\n",
            "Epoch 3/10\n",
            "700/700 [==============================] - 183s 261ms/step - loss: 2.7527 - accuracy: 0.3886 - val_loss: 3.2668 - val_accuracy: 0.3945\n",
            "Epoch 4/10\n",
            "700/700 [==============================] - 183s 261ms/step - loss: 2.7935 - accuracy: 0.3893 - val_loss: 2.7499 - val_accuracy: 0.3996\n",
            "Epoch 5/10\n",
            "700/700 [==============================] - 183s 262ms/step - loss: 2.7706 - accuracy: 0.3923 - val_loss: 2.5952 - val_accuracy: 0.4010\n",
            "Epoch 6/10\n",
            "700/700 [==============================] - 183s 262ms/step - loss: 2.7254 - accuracy: 0.3936 - val_loss: 2.6288 - val_accuracy: 0.4010\n",
            "Epoch 7/10\n",
            "700/700 [==============================] - 185s 264ms/step - loss: 2.7058 - accuracy: 0.3905 - val_loss: 2.6399 - val_accuracy: 0.3963\n",
            "Epoch 8/10\n",
            "700/700 [==============================] - 185s 265ms/step - loss: 2.6242 - accuracy: 0.3945 - val_loss: 2.6397 - val_accuracy: 0.4034\n",
            "Epoch 9/10\n",
            "700/700 [==============================] - 186s 266ms/step - loss: 2.7277 - accuracy: 0.3940 - val_loss: 2.5522 - val_accuracy: 0.4027\n",
            "Epoch 10/10\n",
            "700/700 [==============================] - 185s 264ms/step - loss: 2.6688 - accuracy: 0.3906 - val_loss: 2.2161 - val_accuracy: 0.4042\n"
          ],
          "name": "stdout"
        },
        {
          "output_type": "execute_result",
          "data": {
            "text/plain": [
              "<tensorflow.python.keras.callbacks.History at 0x7fbd50071ba8>"
            ]
          },
          "metadata": {
            "tags": []
          },
          "execution_count": 5
        }
      ]
    },
    {
      "cell_type": "code",
      "metadata": {
        "id": "HM6v_VUuDCVy",
        "colab_type": "code",
        "colab": {}
      },
      "source": [
        "predictions = model.predict(x)"
      ],
      "execution_count": 0,
      "outputs": []
    },
    {
      "cell_type": "code",
      "metadata": {
        "id": "fz2c8YxEY30E",
        "colab_type": "code",
        "colab": {}
      },
      "source": [
        "tp = 0\n",
        "tn = 0\n",
        "fp = 0\n",
        "fn = 0\n",
        "for i in range(len(y)):\n",
        "    for j in range(len(y[i])):\n",
        "        actual = round(y[i][j][0])\n",
        "        pred = round(predictions[i][j][0])\n",
        "        if actual == 0 and pred == 0:\n",
        "            tn += 1\n",
        "        elif actual == 0 and pred > 0:\n",
        "            fp += 1\n",
        "        elif actual > 0 and pred == 0:\n",
        "            fn += 1\n",
        "        else:\n",
        "            tp += 1\n",
        "total = tp+tn+fp+fn"
      ],
      "execution_count": 0,
      "outputs": []
    },
    {
      "cell_type": "code",
      "metadata": {
        "id": "oOZwKhojY8hS",
        "colab_type": "code",
        "outputId": "ea5a365a-b84a-4fe3-944e-03e3fe0158b4",
        "colab": {
          "base_uri": "https://localhost:8080/",
          "height": 102
        }
      },
      "source": [
        "print(\"Accuracy:\",(tp+tn)*100/total)\n",
        "print(\"True Positive Rate:\",tp*100/total)\n",
        "print(\"True Negative Rate:\",tn*100/total)\n",
        "print(\"False Postiive Rate:\",fp*100/total)\n",
        "print(\"False Negative Rate:\",fn*100/total)"
      ],
      "execution_count": 0,
      "outputs": [
        {
          "output_type": "stream",
          "text": [
            "Accuracy: 94.81222\n",
            "True Positive Rate: 74.38024\n",
            "True Negative Rate: 20.43198\n",
            "False Postiive Rate: 4.37106\n",
            "False Negative Rate: 0.81672\n"
          ],
          "name": "stdout"
        }
      ]
    }
  ]
}