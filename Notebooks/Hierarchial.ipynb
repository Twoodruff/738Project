{
 "cells": [
  {
   "cell_type": "code",
   "execution_count": 1,
   "metadata": {},
   "outputs": [],
   "source": [
    "import pandas as pd\n",
    "import numpy as np\n",
    "import tensorflow as tf\n",
    "from tensorflow.keras.models import Sequential\n",
    "from tensorflow.keras.layers import LSTM, SimpleRNN, Dense, Dropout, Flatten\n",
    "from sklearn.model_selection import train_test_split"
   ]
  },
  {
   "cell_type": "code",
   "execution_count": 2,
   "metadata": {},
   "outputs": [
    {
     "data": {
      "text/html": [
       "<div>\n",
       "<style scoped>\n",
       "    .dataframe tbody tr th:only-of-type {\n",
       "        vertical-align: middle;\n",
       "    }\n",
       "\n",
       "    .dataframe tbody tr th {\n",
       "        vertical-align: top;\n",
       "    }\n",
       "\n",
       "    .dataframe thead th {\n",
       "        text-align: right;\n",
       "    }\n",
       "</style>\n",
       "<table border=\"1\" class=\"dataframe\">\n",
       "  <thead>\n",
       "    <tr style=\"text-align: right;\">\n",
       "      <th></th>\n",
       "      <th>time</th>\n",
       "      <th>signal</th>\n",
       "      <th>open_channels</th>\n",
       "      <th>binary_open_channels</th>\n",
       "    </tr>\n",
       "  </thead>\n",
       "  <tbody>\n",
       "    <tr>\n",
       "      <td>0</td>\n",
       "      <td>0.0001</td>\n",
       "      <td>-2.7600</td>\n",
       "      <td>0</td>\n",
       "      <td>0</td>\n",
       "    </tr>\n",
       "    <tr>\n",
       "      <td>1</td>\n",
       "      <td>0.0002</td>\n",
       "      <td>-2.8557</td>\n",
       "      <td>0</td>\n",
       "      <td>0</td>\n",
       "    </tr>\n",
       "    <tr>\n",
       "      <td>2</td>\n",
       "      <td>0.0003</td>\n",
       "      <td>-2.4074</td>\n",
       "      <td>0</td>\n",
       "      <td>0</td>\n",
       "    </tr>\n",
       "    <tr>\n",
       "      <td>3</td>\n",
       "      <td>0.0004</td>\n",
       "      <td>-3.1404</td>\n",
       "      <td>0</td>\n",
       "      <td>0</td>\n",
       "    </tr>\n",
       "    <tr>\n",
       "      <td>4</td>\n",
       "      <td>0.0005</td>\n",
       "      <td>-3.1525</td>\n",
       "      <td>0</td>\n",
       "      <td>0</td>\n",
       "    </tr>\n",
       "    <tr>\n",
       "      <td>...</td>\n",
       "      <td>...</td>\n",
       "      <td>...</td>\n",
       "      <td>...</td>\n",
       "      <td>...</td>\n",
       "    </tr>\n",
       "    <tr>\n",
       "      <td>4999995</td>\n",
       "      <td>499.9996</td>\n",
       "      <td>2.9194</td>\n",
       "      <td>7</td>\n",
       "      <td>1</td>\n",
       "    </tr>\n",
       "    <tr>\n",
       "      <td>4999996</td>\n",
       "      <td>499.9997</td>\n",
       "      <td>2.6980</td>\n",
       "      <td>7</td>\n",
       "      <td>1</td>\n",
       "    </tr>\n",
       "    <tr>\n",
       "      <td>4999997</td>\n",
       "      <td>499.9998</td>\n",
       "      <td>4.5164</td>\n",
       "      <td>8</td>\n",
       "      <td>1</td>\n",
       "    </tr>\n",
       "    <tr>\n",
       "      <td>4999998</td>\n",
       "      <td>499.9999</td>\n",
       "      <td>5.6397</td>\n",
       "      <td>9</td>\n",
       "      <td>1</td>\n",
       "    </tr>\n",
       "    <tr>\n",
       "      <td>4999999</td>\n",
       "      <td>500.0000</td>\n",
       "      <td>5.3792</td>\n",
       "      <td>9</td>\n",
       "      <td>1</td>\n",
       "    </tr>\n",
       "  </tbody>\n",
       "</table>\n",
       "<p>5000000 rows × 4 columns</p>\n",
       "</div>"
      ],
      "text/plain": [
       "             time  signal  open_channels  binary_open_channels\n",
       "0          0.0001 -2.7600              0                     0\n",
       "1          0.0002 -2.8557              0                     0\n",
       "2          0.0003 -2.4074              0                     0\n",
       "3          0.0004 -3.1404              0                     0\n",
       "4          0.0005 -3.1525              0                     0\n",
       "...           ...     ...            ...                   ...\n",
       "4999995  499.9996  2.9194              7                     1\n",
       "4999996  499.9997  2.6980              7                     1\n",
       "4999997  499.9998  4.5164              8                     1\n",
       "4999998  499.9999  5.6397              9                     1\n",
       "4999999  500.0000  5.3792              9                     1\n",
       "\n",
       "[5000000 rows x 4 columns]"
      ]
     },
     "execution_count": 2,
     "metadata": {},
     "output_type": "execute_result"
    }
   ],
   "source": [
    "df_train = pd.read_csv('../Data/train.csv')\n",
    "df_train['binary_open_channels'] = [int(x != 0) for x in df_train.open_channels]\n",
    "df_train"
   ]
  },
  {
   "cell_type": "code",
   "execution_count": 5,
   "metadata": {},
   "outputs": [
    {
     "name": "stdout",
     "output_type": "stream",
     "text": [
      "768 232\n"
     ]
    }
   ],
   "source": [
    "signal = np.array(df_train.signal)\n",
    "open_channels = np.array(df_train.open_channels)\n",
    "binary_open_channels = np.array(df_train.binary_open_channels)\n",
    "\n",
    "data = np.zeros((len(signal), 3))\n",
    "data[:, 0] = signal\n",
    "data[:, 1] = open_channels\n",
    "data[:, 2] = binary_open_channels\n",
    "data = data.reshape((1000, 5000, 3))\n",
    "\n",
    "channel_count = 0\n",
    "no_channel_count = 0\n",
    "\n",
    "for i in range(len(data)):\n",
    "    if sum(data[i,:,2]/len(data[i,:,2])) > .7:\n",
    "        channel_count += 1\n",
    "    else:\n",
    "        no_channel_count += 1\n",
    "        \n",
    "print(channel_count,no_channel_count)\n",
    "\n",
    "no_channel_data = np.zeros((no_channel_count,5000, 3))\n",
    "channel_data = np.zeros((channel_count,5000, 3))\n",
    "\n",
    "channel_count = 0\n",
    "no_channel_count = 0\n",
    "\n",
    "for i in range(len(data)):\n",
    "    if sum(data[i,:,2]/len(data[i,:,2])) > .7:\n",
    "        channel_data[channel_count] = data[i]\n",
    "        channel_count += 1\n",
    "    else:\n",
    "        no_channel_data[no_channel_count] = data[i]\n",
    "        no_channel_count += 1\n",
    "\n",
    "np.random.shuffle(channel_data)\n",
    "np.random.shuffle(no_channel_data)\n",
    "\n",
    "x_channel = channel_data[:,:,0].reshape(channel_count,5000,1)\n",
    "y_channel = channel_data[:,:,1].reshape(channel_count,5000,1)\n",
    "\n",
    "x_no_channel = no_channel_data[:,:,0].reshape(no_channel_count,5000,1)\n",
    "y_no_channel = no_channel_data[:,:,1].reshape(no_channel_count,5000,1)"
   ]
  },
  {
   "cell_type": "code",
   "execution_count": 6,
   "metadata": {},
   "outputs": [],
   "source": [
    "x_channel_train, x_channel_test, y_channel_train, y_channel_test = train_test_split(x_channel,y_channel,test_size = .3)\n",
    "x_no_channel_train, x_no_channel_test, y_no_channel_train, y_no_channel_test = train_test_split(x_no_channel,y_no_channel,test_size = .3)"
   ]
  },
  {
   "cell_type": "code",
   "execution_count": 7,
   "metadata": {},
   "outputs": [],
   "source": [
    "binary_model = tf.keras.models.load_model('binary_class_94_33.h5')"
   ]
  },
  {
   "cell_type": "code",
   "execution_count": 8,
   "metadata": {},
   "outputs": [],
   "source": [
    "channels_model = Sequential()\n",
    "channels_model.add(SimpleRNN(units=20, return_sequences=True, input_shape=(5000,1,)))\n",
    "channels_model.add(Dense(20,activation='relu'))\n",
    "channels_model.add(Dense(units=1,activation='relu'))\n",
    "channels_model.compile(loss='mean_squared_error',optimizer='sgd',metrics=['accuracy'])"
   ]
  },
  {
   "cell_type": "code",
   "execution_count": 9,
   "metadata": {},
   "outputs": [],
   "source": [
    "no_channels_model = Sequential()\n",
    "no_channels_model.add(SimpleRNN(units=20, return_sequences=True, input_shape=(5000,1,)))\n",
    "no_channels_model.add(Dense(20,activation='relu'))\n",
    "no_channels_model.add(Dense(units=1,activation='relu'))\n",
    "no_channels_model.compile(loss='mean_squared_error',optimizer='sgd',metrics=['accuracy'])"
   ]
  },
  {
   "cell_type": "code",
   "execution_count": 10,
   "metadata": {},
   "outputs": [
    {
     "name": "stdout",
     "output_type": "stream",
     "text": [
      "Train on 537 samples, validate on 231 samples\n",
      "Epoch 1/20\n",
      "537/537 [==============================] - 59s 111ms/sample - loss: 5.3339 - accuracy: 0.1428 - val_loss: 3.4435 - val_accuracy: 0.0917\n",
      "Epoch 2/20\n",
      "537/537 [==============================] - 41s 77ms/sample - loss: 3.9538 - accuracy: 0.1467 - val_loss: 3.2125 - val_accuracy: 0.0977\n",
      "Epoch 3/20\n",
      "537/537 [==============================] - 41s 76ms/sample - loss: 3.6787 - accuracy: 0.1975 - val_loss: 2.9181 - val_accuracy: 0.1734\n",
      "Epoch 4/20\n",
      "537/537 [==============================] - 41s 77ms/sample - loss: 3.6556 - accuracy: 0.2391 - val_loss: 3.2521 - val_accuracy: 0.1711\n",
      "Epoch 5/20\n",
      "537/537 [==============================] - 41s 76ms/sample - loss: 3.5351 - accuracy: 0.2377 - val_loss: 2.8385 - val_accuracy: 0.1723\n",
      "Epoch 6/20\n",
      "537/537 [==============================] - 41s 77ms/sample - loss: 3.5509 - accuracy: 0.2385 - val_loss: 2.8996 - val_accuracy: 0.1729\n",
      "Epoch 7/20\n",
      "537/537 [==============================] - 41s 77ms/sample - loss: 3.3873 - accuracy: 0.2387 - val_loss: 2.8996 - val_accuracy: 0.1732\n",
      "Epoch 8/20\n",
      "537/537 [==============================] - 41s 77ms/sample - loss: 3.4885 - accuracy: 0.2390 - val_loss: 2.7891 - val_accuracy: 0.1735\n",
      "Epoch 9/20\n",
      "537/537 [==============================] - 41s 77ms/sample - loss: 3.4890 - accuracy: 0.2391 - val_loss: 2.8235 - val_accuracy: 0.1737\n",
      "Epoch 10/20\n",
      "537/537 [==============================] - 41s 77ms/sample - loss: 3.3932 - accuracy: 0.2392 - val_loss: 3.2763 - val_accuracy: 0.1738\n",
      "Epoch 11/20\n",
      "537/537 [==============================] - 41s 76ms/sample - loss: 3.5183 - accuracy: 0.2392 - val_loss: 3.1144 - val_accuracy: 0.1738\n",
      "Epoch 12/20\n",
      "537/537 [==============================] - 41s 77ms/sample - loss: 3.4433 - accuracy: 0.2393 - val_loss: 2.7660 - val_accuracy: 0.1738\n",
      "Epoch 13/20\n",
      "537/537 [==============================] - 41s 76ms/sample - loss: 3.4426 - accuracy: 0.2393 - val_loss: 3.3501 - val_accuracy: 0.1738\n",
      "Epoch 14/20\n",
      "537/537 [==============================] - 41s 77ms/sample - loss: 3.4116 - accuracy: 0.2393 - val_loss: 3.4873 - val_accuracy: 0.1739\n",
      "Epoch 15/20\n",
      "537/537 [==============================] - 41s 77ms/sample - loss: 3.4339 - accuracy: 0.2394 - val_loss: 2.7762 - val_accuracy: 0.1739\n",
      "Epoch 16/20\n",
      "537/537 [==============================] - 42s 78ms/sample - loss: 3.4341 - accuracy: 0.2394 - val_loss: 2.7699 - val_accuracy: 0.1739\n",
      "Epoch 17/20\n",
      "537/537 [==============================] - 41s 76ms/sample - loss: 3.4133 - accuracy: 0.2394 - val_loss: 3.0105 - val_accuracy: 0.1739\n",
      "Epoch 18/20\n",
      "537/537 [==============================] - 41s 76ms/sample - loss: 3.3894 - accuracy: 0.2394 - val_loss: 2.7778 - val_accuracy: 0.1739\n",
      "Epoch 19/20\n",
      "537/537 [==============================] - 41s 76ms/sample - loss: 3.4520 - accuracy: 0.2399 - val_loss: 2.9776 - val_accuracy: 0.1777\n",
      "Epoch 20/20\n",
      "537/537 [==============================] - 41s 76ms/sample - loss: 3.4861 - accuracy: 0.2424 - val_loss: 2.9653 - val_accuracy: 0.1876\n"
     ]
    },
    {
     "data": {
      "text/plain": [
       "<tensorflow.python.keras.callbacks.History at 0x23ad405f198>"
      ]
     },
     "execution_count": 10,
     "metadata": {},
     "output_type": "execute_result"
    }
   ],
   "source": [
    "channels_model.fit(x_channel_train, y_channel_train, epochs=20, validation_data=(x_channel_test,y_channel_test),verbose=1)"
   ]
  },
  {
   "cell_type": "code",
   "execution_count": 11,
   "metadata": {},
   "outputs": [
    {
     "name": "stdout",
     "output_type": "stream",
     "text": [
      "Train on 162 samples, validate on 70 samples\n",
      "Epoch 1/20\n",
      "162/162 [==============================] - 15s 95ms/sample - loss: 0.4248 - accuracy: 0.5692 - val_loss: 0.1251 - val_accuracy: 0.8451\n",
      "Epoch 2/20\n",
      "162/162 [==============================] - 15s 90ms/sample - loss: 0.0922 - accuracy: 0.8889 - val_loss: 0.1146 - val_accuracy: 0.8466\n",
      "Epoch 3/20\n",
      "162/162 [==============================] - 15s 91ms/sample - loss: 0.0864 - accuracy: 0.8914 - val_loss: 0.1082 - val_accuracy: 0.8502\n",
      "Epoch 4/20\n",
      "162/162 [==============================] - 15s 90ms/sample - loss: 0.0824 - accuracy: 0.8921 - val_loss: 0.1052 - val_accuracy: 0.8506\n",
      "Epoch 5/20\n",
      "162/162 [==============================] - 15s 91ms/sample - loss: 0.0792 - accuracy: 0.8920 - val_loss: 0.1022 - val_accuracy: 0.8515\n",
      "Epoch 6/20\n",
      "162/162 [==============================] - 15s 90ms/sample - loss: 0.0765 - accuracy: 0.8918 - val_loss: 0.0983 - val_accuracy: 0.8525\n",
      "Epoch 7/20\n",
      "162/162 [==============================] - 15s 93ms/sample - loss: 0.0743 - accuracy: 0.8918 - val_loss: 0.0958 - val_accuracy: 0.8531\n",
      "Epoch 8/20\n",
      "162/162 [==============================] - 15s 93ms/sample - loss: 0.0722 - accuracy: 0.8915 - val_loss: 0.0934 - val_accuracy: 0.8532\n",
      "Epoch 9/20\n",
      "162/162 [==============================] - 15s 93ms/sample - loss: 0.0706 - accuracy: 0.8914 - val_loss: 0.0978 - val_accuracy: 0.8545\n",
      "Epoch 10/20\n",
      "162/162 [==============================] - 15s 92ms/sample - loss: 0.0718 - accuracy: 0.8915 - val_loss: 0.0892 - val_accuracy: 0.8538\n",
      "Epoch 11/20\n",
      "162/162 [==============================] - 15s 94ms/sample - loss: 0.0674 - accuracy: 0.8917 - val_loss: 0.0886 - val_accuracy: 0.8545\n",
      "Epoch 12/20\n",
      "162/162 [==============================] - 15s 92ms/sample - loss: 0.0666 - accuracy: 0.8921 - val_loss: 0.0878 - val_accuracy: 0.8555\n",
      "Epoch 13/20\n",
      "162/162 [==============================] - 15s 93ms/sample - loss: 0.0657 - accuracy: 0.8929 - val_loss: 0.0867 - val_accuracy: 0.8572\n",
      "Epoch 14/20\n",
      "162/162 [==============================] - 15s 93ms/sample - loss: 0.0649 - accuracy: 0.8938 - val_loss: 0.0855 - val_accuracy: 0.8596\n",
      "Epoch 15/20\n",
      "162/162 [==============================] - 15s 93ms/sample - loss: 0.0641 - accuracy: 0.8950 - val_loss: 0.0848 - val_accuracy: 0.8633\n",
      "Epoch 16/20\n",
      "162/162 [==============================] - 15s 93ms/sample - loss: 0.0636 - accuracy: 0.8974 - val_loss: 0.0828 - val_accuracy: 0.8753\n",
      "Epoch 17/20\n",
      "162/162 [==============================] - 15s 91ms/sample - loss: 0.0623 - accuracy: 0.9044 - val_loss: 0.0817 - val_accuracy: 0.8755\n",
      "Epoch 18/20\n",
      "162/162 [==============================] - 15s 92ms/sample - loss: 0.0618 - accuracy: 0.9045 - val_loss: 0.0805 - val_accuracy: 0.8756\n",
      "Epoch 19/20\n",
      "162/162 [==============================] - 15s 92ms/sample - loss: 0.0606 - accuracy: 0.9045 - val_loss: 0.0796 - val_accuracy: 0.8755\n",
      "Epoch 20/20\n",
      "162/162 [==============================] - 15s 92ms/sample - loss: 0.0600 - accuracy: 0.9046 - val_loss: 0.0783 - val_accuracy: 0.8755\n"
     ]
    },
    {
     "data": {
      "text/plain": [
       "<tensorflow.python.keras.callbacks.History at 0x23addab6dd8>"
      ]
     },
     "execution_count": 11,
     "metadata": {},
     "output_type": "execute_result"
    }
   ],
   "source": [
    "no_channels_model.fit(x_no_channel_train, y_no_channel_train, epochs=20, validation_data=(x_no_channel_test,y_no_channel_test),verbose=1)"
   ]
  },
  {
   "cell_type": "code",
   "execution_count": 12,
   "metadata": {},
   "outputs": [],
   "source": [
    "channel_predictions = channels_model.predict(x_channel)\n",
    "no_channel_predictions = no_channels_model.predict(x_no_channel)"
   ]
  },
  {
   "cell_type": "code",
   "execution_count": 17,
   "metadata": {},
   "outputs": [],
   "source": [
    "channel_error = []\n",
    "no_channel_error = []\n",
    "for i in range(len(y_channel)):\n",
    "    for j in range(len(y_channel[i])):\n",
    "        actual = y_channel[i][j][0]\n",
    "        pred = channel_predictions[i][j][0]\n",
    "        channel_error.append(abs(actual-pred))\n",
    "                                 \n",
    "for i in range(len(y_no_channel)):\n",
    "    for j in range(len(y_no_channel[i])):\n",
    "        actual = y_channel[i][j][0]\n",
    "        pred = no_channel_predictions[i][j][0]\n",
    "        no_channel_error.append(abs(actual-pred))"
   ]
  },
  {
   "cell_type": "code",
   "execution_count": 18,
   "metadata": {},
   "outputs": [
    {
     "name": "stdout",
     "output_type": "stream",
     "text": [
      "Average channel error: 1.3951610500097662\n",
      "Average no_channel error: 3.4727496507126485\n"
     ]
    }
   ],
   "source": [
    "print('Average channel error:',sum(channel_error)/len(channel_error))\n",
    "print('Average no_channel error:',sum(no_channel_error)/len(no_channel_error))"
   ]
  }
 ],
 "metadata": {
  "kernelspec": {
   "display_name": "Python 3",
   "language": "python",
   "name": "python3"
  },
  "language_info": {
   "codemirror_mode": {
    "name": "ipython",
    "version": 3
   },
   "file_extension": ".py",
   "mimetype": "text/x-python",
   "name": "python",
   "nbconvert_exporter": "python",
   "pygments_lexer": "ipython3",
   "version": "3.7.0"
  }
 },
 "nbformat": 4,
 "nbformat_minor": 2
}
