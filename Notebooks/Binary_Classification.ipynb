{
 "cells": [
  {
   "cell_type": "code",
   "execution_count": 12,
   "metadata": {},
   "outputs": [],
   "source": [
    "import pandas as pd\n",
    "import numpy as np\n",
    "from keras.models import Sequential\n",
    "from keras.layers import LSTM, SimpleRNN, Dense, Dropout, Flatten\n",
    "from sklearn.model_selection import train_test_split"
   ]
  },
  {
   "cell_type": "code",
   "execution_count": null,
   "metadata": {},
   "outputs": [],
   "source": [
    "# Run if using tensorflow2.0+\n",
    "import pandas as pd\n",
    "import numpy as np\n",
    "from tensorflow.keras.models import Sequential\n",
    "from tensorflow.keras.layers import LSTM, SimpleRNN, Dense, Dropout, Flatten\n",
    "from sklearn.model_selection import train_test_split"
   ]
  },
  {
   "cell_type": "code",
   "execution_count": 2,
   "metadata": {},
   "outputs": [
    {
     "data": {
      "text/html": [
       "<div>\n",
       "<style scoped>\n",
       "    .dataframe tbody tr th:only-of-type {\n",
       "        vertical-align: middle;\n",
       "    }\n",
       "\n",
       "    .dataframe tbody tr th {\n",
       "        vertical-align: top;\n",
       "    }\n",
       "\n",
       "    .dataframe thead th {\n",
       "        text-align: right;\n",
       "    }\n",
       "</style>\n",
       "<table border=\"1\" class=\"dataframe\">\n",
       "  <thead>\n",
       "    <tr style=\"text-align: right;\">\n",
       "      <th></th>\n",
       "      <th>time</th>\n",
       "      <th>signal</th>\n",
       "      <th>open_channels</th>\n",
       "      <th>binary_open_channels</th>\n",
       "    </tr>\n",
       "  </thead>\n",
       "  <tbody>\n",
       "    <tr>\n",
       "      <td>0</td>\n",
       "      <td>0.0001</td>\n",
       "      <td>-2.7600</td>\n",
       "      <td>0</td>\n",
       "      <td>0</td>\n",
       "    </tr>\n",
       "    <tr>\n",
       "      <td>1</td>\n",
       "      <td>0.0002</td>\n",
       "      <td>-2.8557</td>\n",
       "      <td>0</td>\n",
       "      <td>0</td>\n",
       "    </tr>\n",
       "    <tr>\n",
       "      <td>2</td>\n",
       "      <td>0.0003</td>\n",
       "      <td>-2.4074</td>\n",
       "      <td>0</td>\n",
       "      <td>0</td>\n",
       "    </tr>\n",
       "    <tr>\n",
       "      <td>3</td>\n",
       "      <td>0.0004</td>\n",
       "      <td>-3.1404</td>\n",
       "      <td>0</td>\n",
       "      <td>0</td>\n",
       "    </tr>\n",
       "    <tr>\n",
       "      <td>4</td>\n",
       "      <td>0.0005</td>\n",
       "      <td>-3.1525</td>\n",
       "      <td>0</td>\n",
       "      <td>0</td>\n",
       "    </tr>\n",
       "    <tr>\n",
       "      <td>...</td>\n",
       "      <td>...</td>\n",
       "      <td>...</td>\n",
       "      <td>...</td>\n",
       "      <td>...</td>\n",
       "    </tr>\n",
       "    <tr>\n",
       "      <td>4999995</td>\n",
       "      <td>499.9996</td>\n",
       "      <td>2.9194</td>\n",
       "      <td>7</td>\n",
       "      <td>1</td>\n",
       "    </tr>\n",
       "    <tr>\n",
       "      <td>4999996</td>\n",
       "      <td>499.9997</td>\n",
       "      <td>2.6980</td>\n",
       "      <td>7</td>\n",
       "      <td>1</td>\n",
       "    </tr>\n",
       "    <tr>\n",
       "      <td>4999997</td>\n",
       "      <td>499.9998</td>\n",
       "      <td>4.5164</td>\n",
       "      <td>8</td>\n",
       "      <td>1</td>\n",
       "    </tr>\n",
       "    <tr>\n",
       "      <td>4999998</td>\n",
       "      <td>499.9999</td>\n",
       "      <td>5.6397</td>\n",
       "      <td>9</td>\n",
       "      <td>1</td>\n",
       "    </tr>\n",
       "    <tr>\n",
       "      <td>4999999</td>\n",
       "      <td>500.0000</td>\n",
       "      <td>5.3792</td>\n",
       "      <td>9</td>\n",
       "      <td>1</td>\n",
       "    </tr>\n",
       "  </tbody>\n",
       "</table>\n",
       "<p>5000000 rows × 4 columns</p>\n",
       "</div>"
      ],
      "text/plain": [
       "             time  signal  open_channels  binary_open_channels\n",
       "0          0.0001 -2.7600              0                     0\n",
       "1          0.0002 -2.8557              0                     0\n",
       "2          0.0003 -2.4074              0                     0\n",
       "3          0.0004 -3.1404              0                     0\n",
       "4          0.0005 -3.1525              0                     0\n",
       "...           ...     ...            ...                   ...\n",
       "4999995  499.9996  2.9194              7                     1\n",
       "4999996  499.9997  2.6980              7                     1\n",
       "4999997  499.9998  4.5164              8                     1\n",
       "4999998  499.9999  5.6397              9                     1\n",
       "4999999  500.0000  5.3792              9                     1\n",
       "\n",
       "[5000000 rows x 4 columns]"
      ]
     },
     "execution_count": 2,
     "metadata": {},
     "output_type": "execute_result"
    }
   ],
   "source": [
    "df_train = pd.read_csv('../Data/train.csv')\n",
    "df_train['binary_open_channels'] = [int(x != 0) for x in df_train.open_channels]\n",
    "df_train"
   ]
  },
  {
   "cell_type": "code",
   "execution_count": 3,
   "metadata": {},
   "outputs": [],
   "source": [
    "signal = np.array(df_train.signal)\n",
    "channels = np.array(df_train.binary_open_channels)\n",
    "x = np.reshape(signal,(1000,5000,1))\n",
    "y = np.reshape(channels,(1000,5000,1))"
   ]
  },
  {
   "cell_type": "code",
   "execution_count": 17,
   "metadata": {},
   "outputs": [],
   "source": [
    "x_train, x_test, y_train, y_test = train_test_split(x,y,test_size = .3)"
   ]
  },
  {
   "cell_type": "markdown",
   "metadata": {},
   "source": [
    "##### model = Sequential()\n",
    "model.add(SimpleRNN(units=20, return_sequences=True, input_shape=(5000,1,)))\n",
    "model.add(Dense(20,activation='relu'))\n",
    "model.add(Dense(units=1,activation='sigmoid'))\n",
    "model.compile(loss='binary_crossentropy',optimizer='sgd',metrics=['accuracy'])"
   ]
  },
  {
   "cell_type": "code",
   "execution_count": 18,
   "metadata": {},
   "outputs": [
    {
     "name": "stdout",
     "output_type": "stream",
     "text": [
      "Train on 700 samples, validate on 300 samples\n",
      "Epoch 1/10\n",
      "700/700 [==============================] - 135s 193ms/step - loss: 0.2429 - accuracy: 0.9315 - val_loss: 0.2459 - val_accuracy: 0.9305\n",
      "Epoch 2/10\n",
      "700/700 [==============================] - 135s 192ms/step - loss: 0.2302 - accuracy: 0.9398 - val_loss: 0.2347 - val_accuracy: 0.9326\n",
      "Epoch 3/10\n",
      "700/700 [==============================] - 135s 192ms/step - loss: 0.2195 - accuracy: 0.9421 - val_loss: 0.2255 - val_accuracy: 0.9358\n",
      "Epoch 4/10\n",
      "700/700 [==============================] - 135s 193ms/step - loss: 0.2106 - accuracy: 0.9451 - val_loss: 0.2178 - val_accuracy: 0.9380\n",
      "Epoch 5/10\n",
      "700/700 [==============================] - 135s 192ms/step - loss: 0.2032 - accuracy: 0.9466 - val_loss: 0.2115 - val_accuracy: 0.9404\n",
      "Epoch 6/10\n",
      "700/700 [==============================] - 135s 193ms/step - loss: 0.1971 - accuracy: 0.9485 - val_loss: 0.2062 - val_accuracy: 0.9410\n",
      "Epoch 7/10\n",
      "700/700 [==============================] - 135s 193ms/step - loss: 0.1921 - accuracy: 0.9492 - val_loss: 0.2019 - val_accuracy: 0.9426\n",
      "Epoch 8/10\n",
      "700/700 [==============================] - 135s 193ms/step - loss: 0.1880 - accuracy: 0.9503 - val_loss: 0.1984 - val_accuracy: 0.9435\n",
      "Epoch 9/10\n",
      "700/700 [==============================] - 135s 193ms/step - loss: 0.1846 - accuracy: 0.9509 - val_loss: 0.1954 - val_accuracy: 0.9443\n",
      "Epoch 10/10\n",
      "700/700 [==============================] - 135s 193ms/step - loss: 0.1817 - accuracy: 0.9515 - val_loss: 0.1929 - val_accuracy: 0.9445\n"
     ]
    },
    {
     "data": {
      "text/plain": [
       "<keras.callbacks.callbacks.History at 0x2138de9fc88>"
      ]
     },
     "execution_count": 18,
     "metadata": {},
     "output_type": "execute_result"
    }
   ],
   "source": [
    "model.fit(x_train, y_train, epochs=10, validation_data=(x_test,y_test),verbose=1)"
   ]
  },
  {
   "cell_type": "code",
   "execution_count": 19,
   "metadata": {},
   "outputs": [],
   "source": [
    "predictions = model.predict(x)"
   ]
  },
  {
   "cell_type": "code",
   "execution_count": 20,
   "metadata": {},
   "outputs": [],
   "source": [
    "tp = 0\n",
    "tn = 0\n",
    "fp = 0\n",
    "fn = 0\n",
    "for i in range(len(y)):\n",
    "    for j in range(len(y[i])):\n",
    "        actual = y[i][j][0]\n",
    "        pred = round(predictions[i][j][0])\n",
    "        if actual == 0 and pred == 0:\n",
    "            tn += 1\n",
    "        elif actual == 0 and pred == 1:\n",
    "            fp += 1\n",
    "        elif actual == 1 and pred == 0:\n",
    "            fn += 1\n",
    "        else:\n",
    "            tp += 1\n",
    "total = tp+tn+fp+fn"
   ]
  },
  {
   "cell_type": "code",
   "execution_count": 21,
   "metadata": {},
   "outputs": [
    {
     "name": "stdout",
     "output_type": "stream",
     "text": [
      "Accuracy: 94.95046\n",
      "True Positive Rate: 74.49162\n",
      "True Negative Rate: 20.45884\n",
      "False Postiive Rate: 4.3442\n",
      "False Negative Rate: 0.70534\n"
     ]
    }
   ],
   "source": [
    "print(\"Accuracy:\",(tp+tn)*100/total)\n",
    "print(\"True Positive Rate:\",tp*100/total)\n",
    "print(\"True Negative Rate:\",tn*100/total)\n",
    "print(\"False Postiive Rate:\",fp*100/total)\n",
    "print(\"False Negative Rate:\",fn*100/total)"
   ]
  }
 ],
 "metadata": {
  "kernelspec": {
   "display_name": "Python 3",
   "language": "python",
   "name": "python3"
  },
  "language_info": {
   "codemirror_mode": {
    "name": "ipython",
    "version": 3
   },
   "file_extension": ".py",
   "mimetype": "text/x-python",
   "name": "python",
   "nbconvert_exporter": "python",
   "pygments_lexer": "ipython3",
   "version": "3.7.2"
  }
 },
 "nbformat": 4,
 "nbformat_minor": 4
}
