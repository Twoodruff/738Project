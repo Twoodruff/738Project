{
 "cells": [
  {
   "cell_type": "code",
   "execution_count": 1,
   "metadata": {},
   "outputs": [],
   "source": [
    "# Run if using tensorflow2.0+\n",
    "import pandas as pd\n",
    "import numpy as np\n",
    "from tensorflow.keras.models import Sequential\n",
    "from tensorflow.keras.layers import LSTM, SimpleRNN, Dense, Dropout, Flatten\n",
    "from sklearn.model_selection import train_test_split"
   ]
  },
  {
   "cell_type": "code",
   "execution_count": 2,
   "metadata": {},
   "outputs": [
    {
     "data": {
      "text/html": [
       "<div>\n",
       "<style scoped>\n",
       "    .dataframe tbody tr th:only-of-type {\n",
       "        vertical-align: middle;\n",
       "    }\n",
       "\n",
       "    .dataframe tbody tr th {\n",
       "        vertical-align: top;\n",
       "    }\n",
       "\n",
       "    .dataframe thead th {\n",
       "        text-align: right;\n",
       "    }\n",
       "</style>\n",
       "<table border=\"1\" class=\"dataframe\">\n",
       "  <thead>\n",
       "    <tr style=\"text-align: right;\">\n",
       "      <th></th>\n",
       "      <th>time</th>\n",
       "      <th>signal</th>\n",
       "      <th>open_channels</th>\n",
       "      <th>binary_open_channels</th>\n",
       "    </tr>\n",
       "  </thead>\n",
       "  <tbody>\n",
       "    <tr>\n",
       "      <td>0</td>\n",
       "      <td>0.0001</td>\n",
       "      <td>-2.7600</td>\n",
       "      <td>0</td>\n",
       "      <td>0</td>\n",
       "    </tr>\n",
       "    <tr>\n",
       "      <td>1</td>\n",
       "      <td>0.0002</td>\n",
       "      <td>-2.8557</td>\n",
       "      <td>0</td>\n",
       "      <td>0</td>\n",
       "    </tr>\n",
       "    <tr>\n",
       "      <td>2</td>\n",
       "      <td>0.0003</td>\n",
       "      <td>-2.4074</td>\n",
       "      <td>0</td>\n",
       "      <td>0</td>\n",
       "    </tr>\n",
       "    <tr>\n",
       "      <td>3</td>\n",
       "      <td>0.0004</td>\n",
       "      <td>-3.1404</td>\n",
       "      <td>0</td>\n",
       "      <td>0</td>\n",
       "    </tr>\n",
       "    <tr>\n",
       "      <td>4</td>\n",
       "      <td>0.0005</td>\n",
       "      <td>-3.1525</td>\n",
       "      <td>0</td>\n",
       "      <td>0</td>\n",
       "    </tr>\n",
       "    <tr>\n",
       "      <td>...</td>\n",
       "      <td>...</td>\n",
       "      <td>...</td>\n",
       "      <td>...</td>\n",
       "      <td>...</td>\n",
       "    </tr>\n",
       "    <tr>\n",
       "      <td>4999995</td>\n",
       "      <td>499.9996</td>\n",
       "      <td>2.9194</td>\n",
       "      <td>7</td>\n",
       "      <td>1</td>\n",
       "    </tr>\n",
       "    <tr>\n",
       "      <td>4999996</td>\n",
       "      <td>499.9997</td>\n",
       "      <td>2.6980</td>\n",
       "      <td>7</td>\n",
       "      <td>1</td>\n",
       "    </tr>\n",
       "    <tr>\n",
       "      <td>4999997</td>\n",
       "      <td>499.9998</td>\n",
       "      <td>4.5164</td>\n",
       "      <td>8</td>\n",
       "      <td>1</td>\n",
       "    </tr>\n",
       "    <tr>\n",
       "      <td>4999998</td>\n",
       "      <td>499.9999</td>\n",
       "      <td>5.6397</td>\n",
       "      <td>9</td>\n",
       "      <td>1</td>\n",
       "    </tr>\n",
       "    <tr>\n",
       "      <td>4999999</td>\n",
       "      <td>500.0000</td>\n",
       "      <td>5.3792</td>\n",
       "      <td>9</td>\n",
       "      <td>1</td>\n",
       "    </tr>\n",
       "  </tbody>\n",
       "</table>\n",
       "<p>5000000 rows × 4 columns</p>\n",
       "</div>"
      ],
      "text/plain": [
       "             time  signal  open_channels  binary_open_channels\n",
       "0          0.0001 -2.7600              0                     0\n",
       "1          0.0002 -2.8557              0                     0\n",
       "2          0.0003 -2.4074              0                     0\n",
       "3          0.0004 -3.1404              0                     0\n",
       "4          0.0005 -3.1525              0                     0\n",
       "...           ...     ...            ...                   ...\n",
       "4999995  499.9996  2.9194              7                     1\n",
       "4999996  499.9997  2.6980              7                     1\n",
       "4999997  499.9998  4.5164              8                     1\n",
       "4999998  499.9999  5.6397              9                     1\n",
       "4999999  500.0000  5.3792              9                     1\n",
       "\n",
       "[5000000 rows x 4 columns]"
      ]
     },
     "execution_count": 2,
     "metadata": {},
     "output_type": "execute_result"
    }
   ],
   "source": [
    "df_train = pd.read_csv('../Data/train.csv')\n",
    "df_train['binary_open_channels'] = [int(x != 0) for x in df_train.open_channels]\n",
    "df_train"
   ]
  },
  {
   "cell_type": "code",
   "execution_count": 3,
   "metadata": {},
   "outputs": [],
   "source": [
    "signal = np.array(df_train.signal)\n",
    "open_channels = np.array(df_train.binary_open_channels)\n",
    "\n",
    "data = np.zeros((len(signal), 2))\n",
    "data[:, 0] = signal\n",
    "data[:, 1] = open_channels\n",
    "data = data.reshape((1000, 5000, 2))\n",
    "np.random.shuffle(data)\n",
    "\n",
    "x = data[:,:, 0].reshape((1000,5000,1))\n",
    "y = data[:,:, 1].reshape((1000,5000,1))"
   ]
  },
  {
   "cell_type": "code",
   "execution_count": 4,
   "metadata": {},
   "outputs": [],
   "source": [
    "x_train, x_test, y_train, y_test = train_test_split(x,y,test_size = .3)"
   ]
  },
  {
   "cell_type": "code",
   "execution_count": 17,
   "metadata": {},
   "outputs": [],
   "source": [
    "model = Sequential()\n",
    "model.add(SimpleRNN(units=20, return_sequences=True, input_shape=(5000,1,)))\n",
    "model.add(Dense(20,activation='relu'))\n",
    "model.add(Dense(units=1,activation='sigmoid'))\n",
    "model.compile(loss='binary_crossentropy',optimizer='sgd',metrics=['accuracy'])"
   ]
  },
  {
   "cell_type": "code",
   "execution_count": 18,
   "metadata": {},
   "outputs": [
    {
     "name": "stdout",
     "output_type": "stream",
     "text": [
      "Train on 700 samples, validate on 300 samples\n",
      "Epoch 1/20\n",
      "700/700 [==============================] - 55s 79ms/sample - loss: 0.4975 - accuracy: 0.8286 - val_loss: 0.4431 - val_accuracy: 0.8221\n",
      "Epoch 2/20\n",
      "700/700 [==============================] - 55s 78ms/sample - loss: 0.4058 - accuracy: 0.8405 - val_loss: 0.3889 - val_accuracy: 0.8287\n",
      "Epoch 3/20\n",
      "700/700 [==============================] - 55s 78ms/sample - loss: 0.3662 - accuracy: 0.8442 - val_loss: 0.3616 - val_accuracy: 0.8342\n",
      "Epoch 4/20\n",
      "700/700 [==============================] - 74s 106ms/sample - loss: 0.3439 - accuracy: 0.8486 - val_loss: 0.3434 - val_accuracy: 0.8391\n",
      "Epoch 5/20\n",
      "700/700 [==============================] - 58s 83ms/sample - loss: 0.3285 - accuracy: 0.8519 - val_loss: 0.3301 - val_accuracy: 0.8447\n",
      "Epoch 6/20\n",
      "700/700 [==============================] - 55s 78ms/sample - loss: 0.3172 - accuracy: 0.8561 - val_loss: 0.3192 - val_accuracy: 0.8492\n",
      "Epoch 7/20\n",
      "700/700 [==============================] - 55s 78ms/sample - loss: 0.3076 - accuracy: 0.8597 - val_loss: 0.3095 - val_accuracy: 0.8521\n",
      "Epoch 8/20\n",
      "700/700 [==============================] - 55s 79ms/sample - loss: 0.2988 - accuracy: 0.8628 - val_loss: 0.3000 - val_accuracy: 0.8548\n",
      "Epoch 9/20\n",
      "700/700 [==============================] - 55s 79ms/sample - loss: 0.2898 - accuracy: 0.8660 - val_loss: 0.2904 - val_accuracy: 0.8584\n",
      "Epoch 10/20\n",
      "700/700 [==============================] - 55s 79ms/sample - loss: 0.2797 - accuracy: 0.8751 - val_loss: 0.2788 - val_accuracy: 0.8805\n",
      "Epoch 11/20\n",
      "700/700 [==============================] - 55s 78ms/sample - loss: 0.2681 - accuracy: 0.9061 - val_loss: 0.2665 - val_accuracy: 0.9164\n",
      "Epoch 12/20\n",
      "700/700 [==============================] - 55s 79ms/sample - loss: 0.2556 - accuracy: 0.9322 - val_loss: 0.2535 - val_accuracy: 0.9320\n",
      "Epoch 13/20\n",
      "700/700 [==============================] - 54s 78ms/sample - loss: 0.2431 - accuracy: 0.9406 - val_loss: 0.2415 - val_accuracy: 0.9365\n",
      "Epoch 14/20\n",
      "700/700 [==============================] - 55s 78ms/sample - loss: 0.2320 - accuracy: 0.9422 - val_loss: 0.2310 - val_accuracy: 0.9393\n",
      "Epoch 15/20\n",
      "700/700 [==============================] - 55s 78ms/sample - loss: 0.2231 - accuracy: 0.9432 - val_loss: 0.2232 - val_accuracy: 0.9398\n",
      "Epoch 16/20\n",
      "700/700 [==============================] - 55s 78ms/sample - loss: 0.2161 - accuracy: 0.9435 - val_loss: 0.2172 - val_accuracy: 0.9404\n",
      "Epoch 17/20\n",
      "700/700 [==============================] - 55s 78ms/sample - loss: 0.2106 - accuracy: 0.9436 - val_loss: 0.2117 - val_accuracy: 0.9419\n",
      "Epoch 18/20\n",
      "700/700 [==============================] - 55s 79ms/sample - loss: 0.2060 - accuracy: 0.9441 - val_loss: 0.2080 - val_accuracy: 0.9418\n",
      "Epoch 19/20\n",
      "700/700 [==============================] - 55s 79ms/sample - loss: 0.2023 - accuracy: 0.9440 - val_loss: 0.2041 - val_accuracy: 0.9431\n",
      "Epoch 20/20\n",
      "700/700 [==============================] - 55s 78ms/sample - loss: 0.1989 - accuracy: 0.9444 - val_loss: 0.2013 - val_accuracy: 0.9433\n"
     ]
    },
    {
     "data": {
      "text/plain": [
       "<tensorflow.python.keras.callbacks.History at 0x210c22f06a0>"
      ]
     },
     "execution_count": 18,
     "metadata": {},
     "output_type": "execute_result"
    }
   ],
   "source": [
    "model.fit(x_train, y_train, epochs=20, validation_data=(x_test,y_test),verbose=1)"
   ]
  },
  {
   "cell_type": "code",
   "execution_count": 19,
   "metadata": {},
   "outputs": [],
   "source": [
    "predictions = model.predict(x)"
   ]
  },
  {
   "cell_type": "code",
   "execution_count": 20,
   "metadata": {},
   "outputs": [],
   "source": [
    "tp = 0\n",
    "tn = 0\n",
    "fp = 0\n",
    "fn = 0\n",
    "for i in range(len(y)):\n",
    "    for j in range(len(y[i])):\n",
    "        actual = y[i][j][0]\n",
    "        pred = round(predictions[i][j][0])\n",
    "        if actual == 0 and pred == 0:\n",
    "            tn += 1\n",
    "        elif actual == 0 and pred == 1:\n",
    "            fp += 1\n",
    "        elif actual == 1 and pred == 0:\n",
    "            fn += 1\n",
    "        else:\n",
    "            tp += 1\n",
    "total = tp+tn+fp+fn"
   ]
  },
  {
   "cell_type": "code",
   "execution_count": 21,
   "metadata": {},
   "outputs": [
    {
     "name": "stdout",
     "output_type": "stream",
     "text": [
      "Accuracy: 94.41892\n",
      "True Positive Rate: 74.20524\n",
      "True Negative Rate: 20.21368\n",
      "False Postiive Rate: 4.58936\n",
      "False Negative Rate: 0.99172\n"
     ]
    }
   ],
   "source": [
    "print(\"Accuracy:\",(tp+tn)*100/total)\n",
    "print(\"True Positive Rate:\",tp*100/total)\n",
    "print(\"True Negative Rate:\",tn*100/total)\n",
    "print(\"False Postiive Rate:\",fp*100/total)\n",
    "print(\"False Negative Rate:\",fn*100/total)"
   ]
  },
  {
   "cell_type": "code",
   "execution_count": 22,
   "metadata": {},
   "outputs": [],
   "source": [
    "sequence_acc = []\n",
    "for i in range(len(y)):\n",
    "    correct = 0\n",
    "    incorrect = 0\n",
    "    for j in range(len(y[i])):\n",
    "        actual = y[i][j][0]\n",
    "        pred = round(predictions[i][j][0])\n",
    "        if actual == 0 and pred == 0:\n",
    "            tn += 1\n",
    "            correct += 1\n",
    "        elif actual == 0 and pred == 1:\n",
    "            fp += 1\n",
    "            incorrect += 1\n",
    "        elif actual == 1 and pred == 0:\n",
    "            fn += 1\n",
    "            incorrect += 1\n",
    "        else:\n",
    "            tp += 1\n",
    "            correct += 1\n",
    "    sequence_acc.append(correct/(correct+incorrect))"
   ]
  },
  {
   "cell_type": "code",
   "execution_count": 23,
   "metadata": {},
   "outputs": [
    {
     "name": "stdout",
     "output_type": "stream",
     "text": [
      "Minimum acc in chunk: 0.0\n",
      "Number of perfect chunks: 146\n"
     ]
    }
   ],
   "source": [
    "print(\"Minimum acc in chunk:\", min(sequence_acc))\n",
    "count = 0\n",
    "for val in sequence_acc:\n",
    "    if val == 1.0:\n",
    "        count += 1\n",
    "print(\"Number of perfect chunks:\", (count))"
   ]
  },
  {
   "cell_type": "code",
   "execution_count": 24,
   "metadata": {},
   "outputs": [
    {
     "name": "stdout",
     "output_type": "stream",
     "text": [
      "357\n"
     ]
    }
   ],
   "source": [
    "for i in range(len(sequence_acc)):\n",
    "    val = sequence_acc[i]\n",
    "    if val == 0.0:\n",
    "        print(i)"
   ]
  },
  {
   "cell_type": "code",
   "execution_count": 16,
   "metadata": {},
   "outputs": [
    {
     "data": {
      "text/html": [
       "<div>\n",
       "<style scoped>\n",
       "    .dataframe tbody tr th:only-of-type {\n",
       "        vertical-align: middle;\n",
       "    }\n",
       "\n",
       "    .dataframe tbody tr th {\n",
       "        vertical-align: top;\n",
       "    }\n",
       "\n",
       "    .dataframe thead th {\n",
       "        text-align: right;\n",
       "    }\n",
       "</style>\n",
       "<table border=\"1\" class=\"dataframe\">\n",
       "  <thead>\n",
       "    <tr style=\"text-align: right;\">\n",
       "      <th></th>\n",
       "      <th>Signal</th>\n",
       "      <th>Actual</th>\n",
       "      <th>Predicted</th>\n",
       "    </tr>\n",
       "  </thead>\n",
       "  <tbody>\n",
       "    <tr>\n",
       "      <td>0</td>\n",
       "      <td>0.2733</td>\n",
       "      <td>0.0</td>\n",
       "      <td>0.689898</td>\n",
       "    </tr>\n",
       "    <tr>\n",
       "      <td>1</td>\n",
       "      <td>0.3884</td>\n",
       "      <td>0.0</td>\n",
       "      <td>0.810469</td>\n",
       "    </tr>\n",
       "    <tr>\n",
       "      <td>2</td>\n",
       "      <td>-0.1229</td>\n",
       "      <td>0.0</td>\n",
       "      <td>0.784324</td>\n",
       "    </tr>\n",
       "    <tr>\n",
       "      <td>3</td>\n",
       "      <td>-0.1870</td>\n",
       "      <td>0.0</td>\n",
       "      <td>0.764345</td>\n",
       "    </tr>\n",
       "    <tr>\n",
       "      <td>4</td>\n",
       "      <td>-0.1912</td>\n",
       "      <td>0.0</td>\n",
       "      <td>0.821175</td>\n",
       "    </tr>\n",
       "    <tr>\n",
       "      <td>...</td>\n",
       "      <td>...</td>\n",
       "      <td>...</td>\n",
       "      <td>...</td>\n",
       "    </tr>\n",
       "    <tr>\n",
       "      <td>995</td>\n",
       "      <td>-0.2777</td>\n",
       "      <td>0.0</td>\n",
       "      <td>0.719673</td>\n",
       "    </tr>\n",
       "    <tr>\n",
       "      <td>996</td>\n",
       "      <td>-0.2788</td>\n",
       "      <td>0.0</td>\n",
       "      <td>0.682233</td>\n",
       "    </tr>\n",
       "    <tr>\n",
       "      <td>997</td>\n",
       "      <td>-0.1582</td>\n",
       "      <td>0.0</td>\n",
       "      <td>0.723067</td>\n",
       "    </tr>\n",
       "    <tr>\n",
       "      <td>998</td>\n",
       "      <td>0.0817</td>\n",
       "      <td>0.0</td>\n",
       "      <td>0.766391</td>\n",
       "    </tr>\n",
       "    <tr>\n",
       "      <td>999</td>\n",
       "      <td>-0.2332</td>\n",
       "      <td>0.0</td>\n",
       "      <td>0.744534</td>\n",
       "    </tr>\n",
       "  </tbody>\n",
       "</table>\n",
       "<p>1000 rows × 3 columns</p>\n",
       "</div>"
      ],
      "text/plain": [
       "     Signal  Actual  Predicted\n",
       "0    0.2733     0.0   0.689898\n",
       "1    0.3884     0.0   0.810469\n",
       "2   -0.1229     0.0   0.784324\n",
       "3   -0.1870     0.0   0.764345\n",
       "4   -0.1912     0.0   0.821175\n",
       "..      ...     ...        ...\n",
       "995 -0.2777     0.0   0.719673\n",
       "996 -0.2788     0.0   0.682233\n",
       "997 -0.1582     0.0   0.723067\n",
       "998  0.0817     0.0   0.766391\n",
       "999 -0.2332     0.0   0.744534\n",
       "\n",
       "[1000 rows x 3 columns]"
      ]
     },
     "execution_count": 16,
     "metadata": {},
     "output_type": "execute_result"
    }
   ],
   "source": [
    "x_357 = []\n",
    "y_357 = []\n",
    "pred_357 = []\n",
    "for i in range(1000):\n",
    "    x_357.append(x[357][i][0])\n",
    "    y_357.append(y[357][i][0])\n",
    "    pred_357.append(predictions[357][i][0])\n",
    "df_analysis = pd.DataFrame()\n",
    "df_analysis['Signal'] = x_357\n",
    "df_analysis['Actual'] = y_357\n",
    "df_analysis['Predicted'] = pred_357\n",
    "df_analysis"
   ]
  }
 ],
 "metadata": {
  "kernelspec": {
   "display_name": "Python 3",
   "language": "python",
   "name": "python3"
  },
  "language_info": {
   "codemirror_mode": {
    "name": "ipython",
    "version": 3
   },
   "file_extension": ".py",
   "mimetype": "text/x-python",
   "name": "python",
   "nbconvert_exporter": "python",
   "pygments_lexer": "ipython3",
   "version": "3.7.0"
  }
 },
 "nbformat": 4,
 "nbformat_minor": 2
}
